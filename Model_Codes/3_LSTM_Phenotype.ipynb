{
 "cells": [
  {
   "cell_type": "code",
   "execution_count": 1,
   "metadata": {},
   "outputs": [],
   "source": [
    "import pandas as pd\n",
    "import numpy as n"
   ]
  },
  {
   "cell_type": "code",
   "execution_count": 2,
   "metadata": {},
   "outputs": [
    {
     "name": "stdout",
     "output_type": "stream",
     "text": [
      "[]\n"
     ]
    }
   ],
   "source": [
    "import tensorflow as tf\n",
    "print(tf.config.list_physical_devices('GPU'))"
   ]
  },
  {
   "cell_type": "code",
   "execution_count": 3,
   "metadata": {},
   "outputs": [],
   "source": [
    "url_rainfall = 'C:/Users/34647859/OneDrive - Murdoch University/ICT678/CNN_LSTM_RF/Dataset/avg_rainfall_dataset.csv'\n",
    "url_solar = 'C:/Users/34647859/OneDrive - Murdoch University/ICT678/CNN_LSTM_RF/Dataset/avg_solar_dataset.csv'\n",
    "url_temp = 'C:/Users/34647859/OneDrive - Murdoch University/ICT678/CNN_LSTM_RF/Dataset/avg_max_temp_dataset.csv'\n",
    "dataset_rainfall = pd.read_csv(url_rainfall)\n",
    "dataset_solar = pd.read_csv(url_solar)\n",
    "dataset_temp = pd.read_csv(url_temp)"
   ]
  },
  {
   "cell_type": "code",
   "execution_count": 4,
   "metadata": {},
   "outputs": [
    {
     "data": {
      "text/html": [
       "<div>\n",
       "<style scoped>\n",
       "    .dataframe tbody tr th:only-of-type {\n",
       "        vertical-align: middle;\n",
       "    }\n",
       "\n",
       "    .dataframe tbody tr th {\n",
       "        vertical-align: top;\n",
       "    }\n",
       "\n",
       "    .dataframe thead th {\n",
       "        text-align: right;\n",
       "    }\n",
       "</style>\n",
       "<table border=\"1\" class=\"dataframe\">\n",
       "  <thead>\n",
       "    <tr style=\"text-align: right;\">\n",
       "      <th></th>\n",
       "      <th>Variety</th>\n",
       "      <th>Reason</th>\n",
       "      <th>Year</th>\n",
       "      <th>Study</th>\n",
       "      <th>Location</th>\n",
       "      <th>ZS49PlHt</th>\n",
       "      <th>ZS49 (no days)</th>\n",
       "      <th>HrvPlHt</th>\n",
       "      <th>ZS91 (no days)</th>\n",
       "      <th>GrYld(kg/ha)</th>\n",
       "      <th>...</th>\n",
       "      <th>03_temp_max</th>\n",
       "      <th>04_temp_max</th>\n",
       "      <th>05_temp_max</th>\n",
       "      <th>06_temp_max</th>\n",
       "      <th>07_temp_max</th>\n",
       "      <th>08_temp_max</th>\n",
       "      <th>09_temp_max</th>\n",
       "      <th>10_temp_max</th>\n",
       "      <th>11_temp_max</th>\n",
       "      <th>12_temp_max</th>\n",
       "    </tr>\n",
       "  </thead>\n",
       "  <tbody>\n",
       "    <tr>\n",
       "      <th>0</th>\n",
       "      <td>Commander</td>\n",
       "      <td>AUS-CTL</td>\n",
       "      <td>2014</td>\n",
       "      <td>NtL</td>\n",
       "      <td>STHPER</td>\n",
       "      <td>55.0</td>\n",
       "      <td>92.0</td>\n",
       "      <td>72.0</td>\n",
       "      <td>131.0</td>\n",
       "      <td>NaN</td>\n",
       "      <td>...</td>\n",
       "      <td>30.293548</td>\n",
       "      <td>26.52</td>\n",
       "      <td>21.432258</td>\n",
       "      <td>19.616667</td>\n",
       "      <td>18.480645</td>\n",
       "      <td>21.587097</td>\n",
       "      <td>21.966667</td>\n",
       "      <td>24.512903</td>\n",
       "      <td>26.18</td>\n",
       "      <td>28.867742</td>\n",
       "    </tr>\n",
       "    <tr>\n",
       "      <th>1</th>\n",
       "      <td>Commander</td>\n",
       "      <td>AUS-CTL</td>\n",
       "      <td>2014</td>\n",
       "      <td>18Hrs</td>\n",
       "      <td>STHPER</td>\n",
       "      <td>38.0</td>\n",
       "      <td>63.0</td>\n",
       "      <td>55.0</td>\n",
       "      <td>108.0</td>\n",
       "      <td>NaN</td>\n",
       "      <td>...</td>\n",
       "      <td>30.293548</td>\n",
       "      <td>26.52</td>\n",
       "      <td>21.432258</td>\n",
       "      <td>19.616667</td>\n",
       "      <td>18.480645</td>\n",
       "      <td>21.587097</td>\n",
       "      <td>21.966667</td>\n",
       "      <td>24.512903</td>\n",
       "      <td>26.18</td>\n",
       "      <td>28.867742</td>\n",
       "    </tr>\n",
       "    <tr>\n",
       "      <th>2</th>\n",
       "      <td>Commander</td>\n",
       "      <td>AUS-CTL</td>\n",
       "      <td>2015</td>\n",
       "      <td>TOP1</td>\n",
       "      <td>NaN</td>\n",
       "      <td>NaN</td>\n",
       "      <td>104.3</td>\n",
       "      <td>NaN</td>\n",
       "      <td>NaN</td>\n",
       "      <td>NaN</td>\n",
       "      <td>...</td>\n",
       "      <td>NaN</td>\n",
       "      <td>NaN</td>\n",
       "      <td>NaN</td>\n",
       "      <td>NaN</td>\n",
       "      <td>NaN</td>\n",
       "      <td>NaN</td>\n",
       "      <td>NaN</td>\n",
       "      <td>NaN</td>\n",
       "      <td>NaN</td>\n",
       "      <td>NaN</td>\n",
       "    </tr>\n",
       "    <tr>\n",
       "      <th>3</th>\n",
       "      <td>Commander</td>\n",
       "      <td>AUS-CTL</td>\n",
       "      <td>2015</td>\n",
       "      <td>TOP2</td>\n",
       "      <td>NaN</td>\n",
       "      <td>NaN</td>\n",
       "      <td>105.0</td>\n",
       "      <td>NaN</td>\n",
       "      <td>NaN</td>\n",
       "      <td>NaN</td>\n",
       "      <td>...</td>\n",
       "      <td>NaN</td>\n",
       "      <td>NaN</td>\n",
       "      <td>NaN</td>\n",
       "      <td>NaN</td>\n",
       "      <td>NaN</td>\n",
       "      <td>NaN</td>\n",
       "      <td>NaN</td>\n",
       "      <td>NaN</td>\n",
       "      <td>NaN</td>\n",
       "      <td>NaN</td>\n",
       "    </tr>\n",
       "    <tr>\n",
       "      <th>4</th>\n",
       "      <td>Commander</td>\n",
       "      <td>AUS-CTL</td>\n",
       "      <td>2015</td>\n",
       "      <td>TOP3</td>\n",
       "      <td>NaN</td>\n",
       "      <td>NaN</td>\n",
       "      <td>96.3</td>\n",
       "      <td>NaN</td>\n",
       "      <td>NaN</td>\n",
       "      <td>NaN</td>\n",
       "      <td>...</td>\n",
       "      <td>NaN</td>\n",
       "      <td>NaN</td>\n",
       "      <td>NaN</td>\n",
       "      <td>NaN</td>\n",
       "      <td>NaN</td>\n",
       "      <td>NaN</td>\n",
       "      <td>NaN</td>\n",
       "      <td>NaN</td>\n",
       "      <td>NaN</td>\n",
       "      <td>NaN</td>\n",
       "    </tr>\n",
       "  </tbody>\n",
       "</table>\n",
       "<p>5 rows × 22 columns</p>\n",
       "</div>"
      ],
      "text/plain": [
       "     Variety   Reason  Year  Study Location  ZS49PlHt  ZS49 (no days)  \\\n",
       "0  Commander  AUS-CTL  2014    NtL   STHPER      55.0            92.0   \n",
       "1  Commander  AUS-CTL  2014  18Hrs   STHPER      38.0            63.0   \n",
       "2  Commander  AUS-CTL  2015   TOP1      NaN       NaN           104.3   \n",
       "3  Commander  AUS-CTL  2015   TOP2      NaN       NaN           105.0   \n",
       "4  Commander  AUS-CTL  2015   TOP3      NaN       NaN            96.3   \n",
       "\n",
       "   HrvPlHt  ZS91 (no days)  GrYld(kg/ha)  ...  03_temp_max  04_temp_max  \\\n",
       "0     72.0           131.0           NaN  ...    30.293548        26.52   \n",
       "1     55.0           108.0           NaN  ...    30.293548        26.52   \n",
       "2      NaN             NaN           NaN  ...          NaN          NaN   \n",
       "3      NaN             NaN           NaN  ...          NaN          NaN   \n",
       "4      NaN             NaN           NaN  ...          NaN          NaN   \n",
       "\n",
       "   05_temp_max  06_temp_max  07_temp_max  08_temp_max  09_temp_max  \\\n",
       "0    21.432258    19.616667    18.480645    21.587097    21.966667   \n",
       "1    21.432258    19.616667    18.480645    21.587097    21.966667   \n",
       "2          NaN          NaN          NaN          NaN          NaN   \n",
       "3          NaN          NaN          NaN          NaN          NaN   \n",
       "4          NaN          NaN          NaN          NaN          NaN   \n",
       "\n",
       "   10_temp_max  11_temp_max  12_temp_max  \n",
       "0    24.512903        26.18    28.867742  \n",
       "1    24.512903        26.18    28.867742  \n",
       "2          NaN          NaN          NaN  \n",
       "3          NaN          NaN          NaN  \n",
       "4          NaN          NaN          NaN  \n",
       "\n",
       "[5 rows x 22 columns]"
      ]
     },
     "execution_count": 4,
     "metadata": {},
     "output_type": "execute_result"
    }
   ],
   "source": [
    "dataset_temp.head()"
   ]
  },
  {
   "cell_type": "code",
   "execution_count": 5,
   "metadata": {},
   "outputs": [],
   "source": [
    "dataset_rainfall.drop(columns=['Variety', 'Year', 'Reason', 'Study','Location', 'ZS49PlHt', 'HrvPlHt', 'ZS91 (no days)', 'ZS49 (no days)'], inplace=True)\n",
    "dataset_solar.drop(columns=[ 'Variety','Year', 'Reason', 'Study','Location', 'ZS49PlHt', 'HrvPlHt', 'ZS91 (no days)', 'ZS49 (no days)'], inplace=True)\n",
    "dataset_temp.drop(columns=[ 'Variety', 'Year', 'Reason', 'Study','Location', 'ZS49PlHt', 'HrvPlHt', 'ZS91 (no days)', 'ZS49 (no days)'], inplace=True)"
   ]
  },
  {
   "cell_type": "code",
   "execution_count": 6,
   "metadata": {},
   "outputs": [],
   "source": [
    "dataset_rainfall.drop(columns=['01_rainfall','02_rainfall','03_rainfall','10_rainfall','11_rainfall','12_rainfall'], inplace=True)\n",
    "dataset_solar.drop(columns=['01_solar','02_solar','03_solar','10_solar','11_solar','12_solar'], inplace=True)\n",
    "dataset_temp.drop(columns=['01_temp_max','02_temp_max','03_temp_max','10_temp_max','11_temp_max','12_temp_max'], inplace=True)"
   ]
  },
  {
   "cell_type": "markdown",
   "metadata": {},
   "source": [
    "Dropped months - Jan, Feb, March, October, Nov, December\n",
    "\n",
    "Months used - April, May, June, July, August, Sept  =  6 months"
   ]
  },
  {
   "cell_type": "code",
   "execution_count": 7,
   "metadata": {},
   "outputs": [
    {
     "name": "stdout",
     "output_type": "stream",
     "text": [
      "RainfallL:  (2617, 7)\n",
      "Solar:  (2617, 7)\n",
      "Temperature:  (2617, 7)\n"
     ]
    }
   ],
   "source": [
    "dataset_rainfall.dropna(inplace=True)\n",
    "dataset_temp.dropna(inplace=True)\n",
    "dataset_solar.dropna(inplace=True)\n",
    "\n",
    "print(\"RainfallL: \", dataset_rainfall.shape)\n",
    "print(\"Solar: \", dataset_solar.shape)\n",
    "print(\"Temperature: \", dataset_temp.shape)"
   ]
  },
  {
   "cell_type": "code",
   "execution_count": 8,
   "metadata": {},
   "outputs": [
    {
     "data": {
      "text/html": [
       "<div>\n",
       "<style scoped>\n",
       "    .dataframe tbody tr th:only-of-type {\n",
       "        vertical-align: middle;\n",
       "    }\n",
       "\n",
       "    .dataframe tbody tr th {\n",
       "        vertical-align: top;\n",
       "    }\n",
       "\n",
       "    .dataframe thead th {\n",
       "        text-align: right;\n",
       "    }\n",
       "</style>\n",
       "<table border=\"1\" class=\"dataframe\">\n",
       "  <thead>\n",
       "    <tr style=\"text-align: right;\">\n",
       "      <th></th>\n",
       "      <th>GrYld(kg/ha)</th>\n",
       "      <th>04_temp_max</th>\n",
       "      <th>05_temp_max</th>\n",
       "      <th>06_temp_max</th>\n",
       "      <th>07_temp_max</th>\n",
       "      <th>08_temp_max</th>\n",
       "      <th>09_temp_max</th>\n",
       "    </tr>\n",
       "  </thead>\n",
       "  <tbody>\n",
       "    <tr>\n",
       "      <th>7</th>\n",
       "      <td>2410.5</td>\n",
       "      <td>28.040000</td>\n",
       "      <td>24.593548</td>\n",
       "      <td>23.313333</td>\n",
       "      <td>20.867742</td>\n",
       "      <td>21.029032</td>\n",
       "      <td>25.343333</td>\n",
       "    </tr>\n",
       "    <tr>\n",
       "      <th>8</th>\n",
       "      <td>4024.9</td>\n",
       "      <td>27.386667</td>\n",
       "      <td>23.361290</td>\n",
       "      <td>19.676667</td>\n",
       "      <td>18.916129</td>\n",
       "      <td>19.361290</td>\n",
       "      <td>20.436667</td>\n",
       "    </tr>\n",
       "    <tr>\n",
       "      <th>9</th>\n",
       "      <td>2360.5</td>\n",
       "      <td>21.900000</td>\n",
       "      <td>17.651613</td>\n",
       "      <td>17.480000</td>\n",
       "      <td>15.151613</td>\n",
       "      <td>15.870968</td>\n",
       "      <td>19.143333</td>\n",
       "    </tr>\n",
       "    <tr>\n",
       "      <th>10</th>\n",
       "      <td>3683.5</td>\n",
       "      <td>20.853333</td>\n",
       "      <td>17.383871</td>\n",
       "      <td>14.313333</td>\n",
       "      <td>13.574194</td>\n",
       "      <td>13.741935</td>\n",
       "      <td>15.083333</td>\n",
       "    </tr>\n",
       "    <tr>\n",
       "      <th>11</th>\n",
       "      <td>4060.0</td>\n",
       "      <td>22.460000</td>\n",
       "      <td>18.506452</td>\n",
       "      <td>18.443333</td>\n",
       "      <td>15.880645</td>\n",
       "      <td>17.390323</td>\n",
       "      <td>20.031034</td>\n",
       "    </tr>\n",
       "  </tbody>\n",
       "</table>\n",
       "</div>"
      ],
      "text/plain": [
       "    GrYld(kg/ha)  04_temp_max  05_temp_max  06_temp_max  07_temp_max  \\\n",
       "7         2410.5    28.040000    24.593548    23.313333    20.867742   \n",
       "8         4024.9    27.386667    23.361290    19.676667    18.916129   \n",
       "9         2360.5    21.900000    17.651613    17.480000    15.151613   \n",
       "10        3683.5    20.853333    17.383871    14.313333    13.574194   \n",
       "11        4060.0    22.460000    18.506452    18.443333    15.880645   \n",
       "\n",
       "    08_temp_max  09_temp_max  \n",
       "7     21.029032    25.343333  \n",
       "8     19.361290    20.436667  \n",
       "9     15.870968    19.143333  \n",
       "10    13.741935    15.083333  \n",
       "11    17.390323    20.031034  "
      ]
     },
     "execution_count": 8,
     "metadata": {},
     "output_type": "execute_result"
    }
   ],
   "source": [
    "dataset_temp.head()"
   ]
  },
  {
   "cell_type": "code",
   "execution_count": 9,
   "metadata": {},
   "outputs": [
    {
     "data": {
      "text/plain": [
       "(2617, 7)"
      ]
     },
     "execution_count": 9,
     "metadata": {},
     "output_type": "execute_result"
    }
   ],
   "source": [
    "dataset_rainfall.shape\n"
   ]
  },
  {
   "cell_type": "code",
   "execution_count": 10,
   "metadata": {},
   "outputs": [
    {
     "ename": "ValueError",
     "evalue": "cannot reshape array of size 18319 into shape (6,1)",
     "output_type": "error",
     "traceback": [
      "\u001b[1;31m---------------------------------------------------------------------------\u001b[0m",
      "\u001b[1;31mValueError\u001b[0m                                Traceback (most recent call last)",
      "Cell \u001b[1;32mIn[10], line 1\u001b[0m\n\u001b[1;32m----> 1\u001b[0m dataset_rainfall\u001b[38;5;241m.\u001b[39mvalues\u001b[38;5;241m.\u001b[39mreshape(\u001b[38;5;241m-\u001b[39m\u001b[38;5;241m1\u001b[39m,\u001b[38;5;241m6\u001b[39m,\u001b[38;5;241m1\u001b[39m)\n\u001b[0;32m      2\u001b[0m dataset_rainfall\u001b[38;5;241m.\u001b[39mshape\n",
      "\u001b[1;31mValueError\u001b[0m: cannot reshape array of size 18319 into shape (6,1)"
     ]
    }
   ],
   "source": [
    "dataset_rainfall.values.reshape(-1,6,1)\n",
    "dataset_rainfall.shape"
   ]
  },
  {
   "cell_type": "code",
   "execution_count": 11,
   "metadata": {},
   "outputs": [],
   "source": [
    "common_columns = dataset_rainfall.columns.intersection(dataset_solar.columns).intersection(dataset_temp.columns)\n",
    "\n",
    "merged_df = pd.concat([\n",
    "    dataset_rainfall,\n",
    "    dataset_solar.drop(columns=common_columns),\n",
    "    dataset_temp.drop(columns=common_columns)\n",
    "], axis=1)"
   ]
  },
  {
   "cell_type": "code",
   "execution_count": 12,
   "metadata": {},
   "outputs": [
    {
     "data": {
      "text/plain": [
       "(2617, 19)"
      ]
     },
     "execution_count": 12,
     "metadata": {},
     "output_type": "execute_result"
    }
   ],
   "source": [
    "merged_df.shape"
   ]
  },
  {
   "cell_type": "code",
   "execution_count": 13,
   "metadata": {},
   "outputs": [],
   "source": [
    "from sklearn.preprocessing import MinMaxScaler\n",
    "\n",
    "scaler_data = MinMaxScaler()\n",
    "\n",
    "X = merged_df.drop(columns= ['GrYld(kg/ha)'])\n",
    "y = merged_df['GrYld(kg/ha)']\n",
    "\n",
    "scaled_X = scaler_data.fit_transform(X)"
   ]
  },
  {
   "cell_type": "code",
   "execution_count": 14,
   "metadata": {},
   "outputs": [
    {
     "name": "stdout",
     "output_type": "stream",
     "text": [
      "(2617, 18)\n",
      "(2617,)\n"
     ]
    }
   ],
   "source": [
    "print(X.shape)\n",
    "print(y.shape)"
   ]
  },
  {
   "cell_type": "code",
   "execution_count": 15,
   "metadata": {},
   "outputs": [
    {
     "name": "stdout",
     "output_type": "stream",
     "text": [
      "(2617, 18, 1)\n",
      "(2617,)\n"
     ]
    }
   ],
   "source": [
    "import numpy as np\n",
    "\n",
    "X_reshaped = np.array(X).reshape((X.shape[0], X.shape[1], 1))\n",
    "\n",
    "print(X_reshaped.shape)\n",
    "\n",
    "y = merged_df['GrYld(kg/ha)'].values\n",
    "\n",
    "print(y.shape)\n",
    "\n"
   ]
  },
  {
   "cell_type": "code",
   "execution_count": 16,
   "metadata": {},
   "outputs": [
    {
     "name": "stdout",
     "output_type": "stream",
     "text": [
      "X Train : 2093, Test: 524, Y Train: 2093, Target Test: 524\n"
     ]
    }
   ],
   "source": [
    "from sklearn.model_selection import train_test_split\n",
    "\n",
    "X_train, X_test, y_train, y_test = train_test_split(X_reshaped, y, test_size =0.2, random_state=42)\n",
    "\n",
    "print(f\"X Train : {len(X_train)}, Test: {len(X_test)}, Y Train: {len(y_train)}, Target Test: {len(y_test)}\")\n"
   ]
  },
  {
   "cell_type": "code",
   "execution_count": 17,
   "metadata": {},
   "outputs": [],
   "source": [
    "from tensorflow.keras.layers import Layer\n",
    "import tensorflow.keras.backend as K\n",
    "\n",
    "class MultiInputAttention(Layer):\n",
    "    def __init__(self, **kwargs):\n",
    "        super(MultiInputAttention, self).__init__(**kwargs)\n",
    "\n",
    "    def build(self, input_shape):\n",
    "        # Creates a learnable parameter (weights) for the attention mechanism\n",
    "        self.W = self.add_weight(name=\"att_weight\", shape=(input_shape[-1], 1), initializer=\"glorot_uniform\", trainable=True)\n",
    "        self.b = self.add_weight(name=\"att_bias\", shape=(input_shape[1], 1), initializer=\"zeros\", trainable=True)\n",
    "        super(MultiInputAttention, self).build(input_shape)\n",
    "\n",
    "    def call(self, x):\n",
    "        # Alignment scores: W*x + b\n",
    "        e = K.tanh(K.dot(x, self.W) + self.b)\n",
    "        \n",
    "        # Softmax to get the attention weights (importance of each timestep)\n",
    "        a = K.softmax(e, axis=1)\n",
    "        \n",
    "        # Multiply the attention weights with the hidden states\n",
    "        output = x * a\n",
    "        \n",
    "        # Return the context vector (weighted sum of hidden states)\n",
    "        return K.sum(output, axis=1), a\n"
   ]
  },
  {
   "cell_type": "code",
   "execution_count": 18,
   "metadata": {},
   "outputs": [
    {
     "name": "stdout",
     "output_type": "stream",
     "text": [
      "WARNING:tensorflow:From c:\\Users\\34647859\\AppData\\Local\\anaconda3\\Lib\\site-packages\\keras\\src\\backend\\tensorflow\\core.py:192: The name tf.placeholder is deprecated. Please use tf.compat.v1.placeholder instead.\n",
      "\n"
     ]
    },
    {
     "data": {
      "text/html": [
       "<pre style=\"white-space:pre;overflow-x:auto;line-height:normal;font-family:Menlo,'DejaVu Sans Mono',consolas,'Courier New',monospace\"><span style=\"font-weight: bold\">Model: \"functional\"</span>\n",
       "</pre>\n"
      ],
      "text/plain": [
       "\u001b[1mModel: \"functional\"\u001b[0m\n"
      ]
     },
     "metadata": {},
     "output_type": "display_data"
    },
    {
     "data": {
      "text/html": [
       "<pre style=\"white-space:pre;overflow-x:auto;line-height:normal;font-family:Menlo,'DejaVu Sans Mono',consolas,'Courier New',monospace\">┏━━━━━━━━━━━━━━━━━━━━━━━━━━━━━━━━━┳━━━━━━━━━━━━━━━━━━━━━━━━┳━━━━━━━━━━━━━━━┓\n",
       "┃<span style=\"font-weight: bold\"> Layer (type)                    </span>┃<span style=\"font-weight: bold\"> Output Shape           </span>┃<span style=\"font-weight: bold\">       Param # </span>┃\n",
       "┡━━━━━━━━━━━━━━━━━━━━━━━━━━━━━━━━━╇━━━━━━━━━━━━━━━━━━━━━━━━╇━━━━━━━━━━━━━━━┩\n",
       "│ input_layer (<span style=\"color: #0087ff; text-decoration-color: #0087ff\">InputLayer</span>)        │ (<span style=\"color: #00d7ff; text-decoration-color: #00d7ff\">None</span>, <span style=\"color: #00af00; text-decoration-color: #00af00\">18</span>, <span style=\"color: #00af00; text-decoration-color: #00af00\">1</span>)          │             <span style=\"color: #00af00; text-decoration-color: #00af00\">0</span> │\n",
       "├─────────────────────────────────┼────────────────────────┼───────────────┤\n",
       "│ lstm (<span style=\"color: #0087ff; text-decoration-color: #0087ff\">LSTM</span>)                     │ (<span style=\"color: #00d7ff; text-decoration-color: #00d7ff\">None</span>, <span style=\"color: #00af00; text-decoration-color: #00af00\">18</span>, <span style=\"color: #00af00; text-decoration-color: #00af00\">50</span>)         │        <span style=\"color: #00af00; text-decoration-color: #00af00\">10,400</span> │\n",
       "├─────────────────────────────────┼────────────────────────┼───────────────┤\n",
       "│ multi_input_attention           │ [(<span style=\"color: #00d7ff; text-decoration-color: #00d7ff\">None</span>, <span style=\"color: #00af00; text-decoration-color: #00af00\">50</span>), (<span style=\"color: #00d7ff; text-decoration-color: #00d7ff\">None</span>,    │            <span style=\"color: #00af00; text-decoration-color: #00af00\">68</span> │\n",
       "│ (<span style=\"color: #0087ff; text-decoration-color: #0087ff\">MultiInputAttention</span>)           │ <span style=\"color: #00af00; text-decoration-color: #00af00\">18</span>, <span style=\"color: #00af00; text-decoration-color: #00af00\">1</span>)]                │               │\n",
       "├─────────────────────────────────┼────────────────────────┼───────────────┤\n",
       "│ dense (<span style=\"color: #0087ff; text-decoration-color: #0087ff\">Dense</span>)                   │ (<span style=\"color: #00d7ff; text-decoration-color: #00d7ff\">None</span>, <span style=\"color: #00af00; text-decoration-color: #00af00\">128</span>)            │         <span style=\"color: #00af00; text-decoration-color: #00af00\">6,528</span> │\n",
       "├─────────────────────────────────┼────────────────────────┼───────────────┤\n",
       "│ dropout (<span style=\"color: #0087ff; text-decoration-color: #0087ff\">Dropout</span>)               │ (<span style=\"color: #00d7ff; text-decoration-color: #00d7ff\">None</span>, <span style=\"color: #00af00; text-decoration-color: #00af00\">128</span>)            │             <span style=\"color: #00af00; text-decoration-color: #00af00\">0</span> │\n",
       "├─────────────────────────────────┼────────────────────────┼───────────────┤\n",
       "│ dense_1 (<span style=\"color: #0087ff; text-decoration-color: #0087ff\">Dense</span>)                 │ (<span style=\"color: #00d7ff; text-decoration-color: #00d7ff\">None</span>, <span style=\"color: #00af00; text-decoration-color: #00af00\">1</span>)              │           <span style=\"color: #00af00; text-decoration-color: #00af00\">129</span> │\n",
       "└─────────────────────────────────┴────────────────────────┴───────────────┘\n",
       "</pre>\n"
      ],
      "text/plain": [
       "┏━━━━━━━━━━━━━━━━━━━━━━━━━━━━━━━━━┳━━━━━━━━━━━━━━━━━━━━━━━━┳━━━━━━━━━━━━━━━┓\n",
       "┃\u001b[1m \u001b[0m\u001b[1mLayer (type)                   \u001b[0m\u001b[1m \u001b[0m┃\u001b[1m \u001b[0m\u001b[1mOutput Shape          \u001b[0m\u001b[1m \u001b[0m┃\u001b[1m \u001b[0m\u001b[1m      Param #\u001b[0m\u001b[1m \u001b[0m┃\n",
       "┡━━━━━━━━━━━━━━━━━━━━━━━━━━━━━━━━━╇━━━━━━━━━━━━━━━━━━━━━━━━╇━━━━━━━━━━━━━━━┩\n",
       "│ input_layer (\u001b[38;5;33mInputLayer\u001b[0m)        │ (\u001b[38;5;45mNone\u001b[0m, \u001b[38;5;34m18\u001b[0m, \u001b[38;5;34m1\u001b[0m)          │             \u001b[38;5;34m0\u001b[0m │\n",
       "├─────────────────────────────────┼────────────────────────┼───────────────┤\n",
       "│ lstm (\u001b[38;5;33mLSTM\u001b[0m)                     │ (\u001b[38;5;45mNone\u001b[0m, \u001b[38;5;34m18\u001b[0m, \u001b[38;5;34m50\u001b[0m)         │        \u001b[38;5;34m10,400\u001b[0m │\n",
       "├─────────────────────────────────┼────────────────────────┼───────────────┤\n",
       "│ multi_input_attention           │ [(\u001b[38;5;45mNone\u001b[0m, \u001b[38;5;34m50\u001b[0m), (\u001b[38;5;45mNone\u001b[0m,    │            \u001b[38;5;34m68\u001b[0m │\n",
       "│ (\u001b[38;5;33mMultiInputAttention\u001b[0m)           │ \u001b[38;5;34m18\u001b[0m, \u001b[38;5;34m1\u001b[0m)]                │               │\n",
       "├─────────────────────────────────┼────────────────────────┼───────────────┤\n",
       "│ dense (\u001b[38;5;33mDense\u001b[0m)                   │ (\u001b[38;5;45mNone\u001b[0m, \u001b[38;5;34m128\u001b[0m)            │         \u001b[38;5;34m6,528\u001b[0m │\n",
       "├─────────────────────────────────┼────────────────────────┼───────────────┤\n",
       "│ dropout (\u001b[38;5;33mDropout\u001b[0m)               │ (\u001b[38;5;45mNone\u001b[0m, \u001b[38;5;34m128\u001b[0m)            │             \u001b[38;5;34m0\u001b[0m │\n",
       "├─────────────────────────────────┼────────────────────────┼───────────────┤\n",
       "│ dense_1 (\u001b[38;5;33mDense\u001b[0m)                 │ (\u001b[38;5;45mNone\u001b[0m, \u001b[38;5;34m1\u001b[0m)              │           \u001b[38;5;34m129\u001b[0m │\n",
       "└─────────────────────────────────┴────────────────────────┴───────────────┘\n"
      ]
     },
     "metadata": {},
     "output_type": "display_data"
    },
    {
     "data": {
      "text/html": [
       "<pre style=\"white-space:pre;overflow-x:auto;line-height:normal;font-family:Menlo,'DejaVu Sans Mono',consolas,'Courier New',monospace\"><span style=\"font-weight: bold\"> Total params: </span><span style=\"color: #00af00; text-decoration-color: #00af00\">17,125</span> (66.89 KB)\n",
       "</pre>\n"
      ],
      "text/plain": [
       "\u001b[1m Total params: \u001b[0m\u001b[38;5;34m17,125\u001b[0m (66.89 KB)\n"
      ]
     },
     "metadata": {},
     "output_type": "display_data"
    },
    {
     "data": {
      "text/html": [
       "<pre style=\"white-space:pre;overflow-x:auto;line-height:normal;font-family:Menlo,'DejaVu Sans Mono',consolas,'Courier New',monospace\"><span style=\"font-weight: bold\"> Trainable params: </span><span style=\"color: #00af00; text-decoration-color: #00af00\">17,125</span> (66.89 KB)\n",
       "</pre>\n"
      ],
      "text/plain": [
       "\u001b[1m Trainable params: \u001b[0m\u001b[38;5;34m17,125\u001b[0m (66.89 KB)\n"
      ]
     },
     "metadata": {},
     "output_type": "display_data"
    },
    {
     "data": {
      "text/html": [
       "<pre style=\"white-space:pre;overflow-x:auto;line-height:normal;font-family:Menlo,'DejaVu Sans Mono',consolas,'Courier New',monospace\"><span style=\"font-weight: bold\"> Non-trainable params: </span><span style=\"color: #00af00; text-decoration-color: #00af00\">0</span> (0.00 B)\n",
       "</pre>\n"
      ],
      "text/plain": [
       "\u001b[1m Non-trainable params: \u001b[0m\u001b[38;5;34m0\u001b[0m (0.00 B)\n"
      ]
     },
     "metadata": {},
     "output_type": "display_data"
    }
   ],
   "source": [
    "from tensorflow.keras.models import Sequential\n",
    "from tensorflow.keras.layers import LSTM, Dense, Input, Dropout\n",
    "from tensorflow.keras.models import Model\n",
    "from tensorflow.keras.metrics import RootMeanSquaredError\n",
    "\n",
    "inputs = Input(shape=(X_train.shape[1], X_train.shape[2]))\n",
    "\n",
    "# LSTM layer\n",
    "lstm_out = LSTM(50, return_sequences=True)(inputs)  \n",
    "\n",
    "# Attention layer\n",
    "attention_output, attention_weights = MultiInputAttention()(lstm_out)\n",
    "\n",
    "# Dense layers\n",
    "dense = Dense(128, activation='relu') (attention_output)\n",
    "dense = Dropout(0.1080875117110648)(dense)\n",
    "\n",
    "output = Dense(1, activation='relu') (dense)\n",
    "\n",
    "# Build the model\n",
    "model = Model(inputs=[inputs], outputs=[output, attention_weights])\n",
    "\n",
    "# Compile the model\n",
    "model.compile(optimizer='adam', loss='mse', metrics=[RootMeanSquaredError(), 'mae'])\n",
    "\n",
    "model.compile(\n",
    "    optimizer='adam', \n",
    "    loss=['mse', None],  # Only compute loss for the main output\n",
    "    loss_weights=[1., 0.],  # Gives full weight to the main output, ignores the attention output\n",
    "    metrics=[RootMeanSquaredError(), 'mae']  \n",
    ")\n",
    "\n",
    "model.summary()"
   ]
  },
  {
   "cell_type": "code",
   "execution_count": 19,
   "metadata": {},
   "outputs": [
    {
     "data": {
      "text/plain": [
       "(2617, 18, 1)"
      ]
     },
     "execution_count": 19,
     "metadata": {},
     "output_type": "execute_result"
    }
   ],
   "source": [
    "X_reshaped.shape"
   ]
  },
  {
   "cell_type": "code",
   "execution_count": 20,
   "metadata": {},
   "outputs": [
    {
     "name": "stdout",
     "output_type": "stream",
     "text": [
      "Epoch 1/100\n",
      "\u001b[1m105/105\u001b[0m \u001b[32m━━━━━━━━━━━━━━━━━━━━\u001b[0m\u001b[37m\u001b[0m \u001b[1m9s\u001b[0m 26ms/step - dense_1_root_mean_squared_error: 2966.3962 - loss: 8808426.0000 - multi_input_attention_mae: 0.0556 - val_dense_1_root_mean_squared_error: 2848.9119 - val_loss: 8116299.0000 - val_multi_input_attention_mae: 0.0556\n",
      "Epoch 2/100\n",
      "\u001b[1m105/105\u001b[0m \u001b[32m━━━━━━━━━━━━━━━━━━━━\u001b[0m\u001b[37m\u001b[0m \u001b[1m2s\u001b[0m 18ms/step - dense_1_root_mean_squared_error: 2820.9421 - loss: 7960882.5000 - multi_input_attention_mae: 0.0556 - val_dense_1_root_mean_squared_error: 2626.6245 - val_loss: 6899156.0000 - val_multi_input_attention_mae: 0.0556\n",
      "Epoch 3/100\n",
      "\u001b[1m105/105\u001b[0m \u001b[32m━━━━━━━━━━━━━━━━━━━━\u001b[0m\u001b[37m\u001b[0m \u001b[1m2s\u001b[0m 18ms/step - dense_1_root_mean_squared_error: 2554.2776 - loss: 6527662.0000 - multi_input_attention_mae: 0.0556 - val_dense_1_root_mean_squared_error: 2303.1392 - val_loss: 5304450.5000 - val_multi_input_attention_mae: 0.0556\n",
      "Epoch 4/100\n",
      "\u001b[1m105/105\u001b[0m \u001b[32m━━━━━━━━━━━━━━━━━━━━\u001b[0m\u001b[37m\u001b[0m \u001b[1m2s\u001b[0m 18ms/step - dense_1_root_mean_squared_error: 2214.7603 - loss: 4909114.0000 - multi_input_attention_mae: 0.0556 - val_dense_1_root_mean_squared_error: 1926.6354 - val_loss: 3711923.7500 - val_multi_input_attention_mae: 0.0556\n",
      "Epoch 5/100\n",
      "\u001b[1m105/105\u001b[0m \u001b[32m━━━━━━━━━━━━━━━━━━━━\u001b[0m\u001b[37m\u001b[0m \u001b[1m2s\u001b[0m 18ms/step - dense_1_root_mean_squared_error: 1862.8976 - loss: 3476775.2500 - multi_input_attention_mae: 0.0556 - val_dense_1_root_mean_squared_error: 1572.8306 - val_loss: 2473796.0000 - val_multi_input_attention_mae: 0.0556\n",
      "Epoch 6/100\n",
      "\u001b[1m105/105\u001b[0m \u001b[32m━━━━━━━━━━━━━━━━━━━━\u001b[0m\u001b[37m\u001b[0m \u001b[1m2s\u001b[0m 18ms/step - dense_1_root_mean_squared_error: 1515.2131 - loss: 2299932.5000 - multi_input_attention_mae: 0.0556 - val_dense_1_root_mean_squared_error: 1312.1143 - val_loss: 1721643.8750 - val_multi_input_attention_mae: 0.0556\n",
      "Epoch 7/100\n",
      "\u001b[1m105/105\u001b[0m \u001b[32m━━━━━━━━━━━━━━━━━━━━\u001b[0m\u001b[37m\u001b[0m \u001b[1m2s\u001b[0m 18ms/step - dense_1_root_mean_squared_error: 1276.6711 - loss: 1631947.2500 - multi_input_attention_mae: 0.0556 - val_dense_1_root_mean_squared_error: 1171.4263 - val_loss: 1372239.3750 - val_multi_input_attention_mae: 0.0556\n",
      "Epoch 8/100\n",
      "\u001b[1m105/105\u001b[0m \u001b[32m━━━━━━━━━━━━━━━━━━━━\u001b[0m\u001b[37m\u001b[0m \u001b[1m2s\u001b[0m 18ms/step - dense_1_root_mean_squared_error: 1205.8218 - loss: 1456165.8750 - multi_input_attention_mae: 0.0556 - val_dense_1_root_mean_squared_error: 1118.5963 - val_loss: 1251257.7500 - val_multi_input_attention_mae: 0.0556\n",
      "Epoch 9/100\n",
      "\u001b[1m105/105\u001b[0m \u001b[32m━━━━━━━━━━━━━━━━━━━━\u001b[0m\u001b[37m\u001b[0m \u001b[1m2s\u001b[0m 18ms/step - dense_1_root_mean_squared_error: 1133.3235 - loss: 1285884.3750 - multi_input_attention_mae: 0.0556 - val_dense_1_root_mean_squared_error: 1103.8444 - val_loss: 1218472.3750 - val_multi_input_attention_mae: 0.0556\n",
      "Epoch 10/100\n",
      "\u001b[1m105/105\u001b[0m \u001b[32m━━━━━━━━━━━━━━━━━━━━\u001b[0m\u001b[37m\u001b[0m \u001b[1m2s\u001b[0m 18ms/step - dense_1_root_mean_squared_error: 1137.0483 - loss: 1293528.1250 - multi_input_attention_mae: 0.0556 - val_dense_1_root_mean_squared_error: 1097.9323 - val_loss: 1205455.1250 - val_multi_input_attention_mae: 0.0556\n",
      "Epoch 11/100\n",
      "\u001b[1m105/105\u001b[0m \u001b[32m━━━━━━━━━━━━━━━━━━━━\u001b[0m\u001b[37m\u001b[0m \u001b[1m2s\u001b[0m 18ms/step - dense_1_root_mean_squared_error: 1117.2485 - loss: 1249044.8750 - multi_input_attention_mae: 0.0556 - val_dense_1_root_mean_squared_error: 1084.0601 - val_loss: 1175186.1250 - val_multi_input_attention_mae: 0.0556\n",
      "Epoch 12/100\n",
      "\u001b[1m105/105\u001b[0m \u001b[32m━━━━━━━━━━━━━━━━━━━━\u001b[0m\u001b[37m\u001b[0m \u001b[1m2s\u001b[0m 18ms/step - dense_1_root_mean_squared_error: 1102.0660 - loss: 1215072.6250 - multi_input_attention_mae: 0.0556 - val_dense_1_root_mean_squared_error: 993.5023 - val_loss: 987046.8125 - val_multi_input_attention_mae: 0.0556\n",
      "Epoch 13/100\n",
      "\u001b[1m105/105\u001b[0m \u001b[32m━━━━━━━━━━━━━━━━━━━━\u001b[0m\u001b[37m\u001b[0m \u001b[1m2s\u001b[0m 17ms/step - dense_1_root_mean_squared_error: 996.0950 - loss: 992386.1875 - multi_input_attention_mae: 0.0556 - val_dense_1_root_mean_squared_error: 959.8055 - val_loss: 921226.6875 - val_multi_input_attention_mae: 0.0556\n",
      "Epoch 14/100\n",
      "\u001b[1m105/105\u001b[0m \u001b[32m━━━━━━━━━━━━━━━━━━━━\u001b[0m\u001b[37m\u001b[0m \u001b[1m2s\u001b[0m 17ms/step - dense_1_root_mean_squared_error: 1010.9890 - loss: 1022650.1250 - multi_input_attention_mae: 0.0556 - val_dense_1_root_mean_squared_error: 954.3991 - val_loss: 910877.6250 - val_multi_input_attention_mae: 0.0556\n",
      "Epoch 15/100\n",
      "\u001b[1m105/105\u001b[0m \u001b[32m━━━━━━━━━━━━━━━━━━━━\u001b[0m\u001b[37m\u001b[0m \u001b[1m2s\u001b[0m 17ms/step - dense_1_root_mean_squared_error: 982.4745 - loss: 965787.3750 - multi_input_attention_mae: 0.0556 - val_dense_1_root_mean_squared_error: 948.3888 - val_loss: 899441.2500 - val_multi_input_attention_mae: 0.0556\n",
      "Epoch 16/100\n",
      "\u001b[1m105/105\u001b[0m \u001b[32m━━━━━━━━━━━━━━━━━━━━\u001b[0m\u001b[37m\u001b[0m \u001b[1m2s\u001b[0m 17ms/step - dense_1_root_mean_squared_error: 976.4554 - loss: 954124.3750 - multi_input_attention_mae: 0.0556 - val_dense_1_root_mean_squared_error: 946.8135 - val_loss: 896455.8125 - val_multi_input_attention_mae: 0.0556\n",
      "Epoch 17/100\n",
      "\u001b[1m105/105\u001b[0m \u001b[32m━━━━━━━━━━━━━━━━━━━━\u001b[0m\u001b[37m\u001b[0m \u001b[1m2s\u001b[0m 17ms/step - dense_1_root_mean_squared_error: 974.5821 - loss: 950404.9375 - multi_input_attention_mae: 0.0556 - val_dense_1_root_mean_squared_error: 944.8315 - val_loss: 892706.6875 - val_multi_input_attention_mae: 0.0556\n",
      "Epoch 18/100\n",
      "\u001b[1m105/105\u001b[0m \u001b[32m━━━━━━━━━━━━━━━━━━━━\u001b[0m\u001b[37m\u001b[0m \u001b[1m2s\u001b[0m 18ms/step - dense_1_root_mean_squared_error: 987.4371 - loss: 975258.7500 - multi_input_attention_mae: 0.0556 - val_dense_1_root_mean_squared_error: 944.8474 - val_loss: 892736.5625 - val_multi_input_attention_mae: 0.0556\n",
      "Epoch 19/100\n",
      "\u001b[1m105/105\u001b[0m \u001b[32m━━━━━━━━━━━━━━━━━━━━\u001b[0m\u001b[37m\u001b[0m \u001b[1m2s\u001b[0m 18ms/step - dense_1_root_mean_squared_error: 992.6174 - loss: 985950.6875 - multi_input_attention_mae: 0.0556 - val_dense_1_root_mean_squared_error: 944.8723 - val_loss: 892783.5625 - val_multi_input_attention_mae: 0.0556\n",
      "Epoch 20/100\n",
      "\u001b[1m105/105\u001b[0m \u001b[32m━━━━━━━━━━━━━━━━━━━━\u001b[0m\u001b[37m\u001b[0m \u001b[1m2s\u001b[0m 18ms/step - dense_1_root_mean_squared_error: 963.5821 - loss: 928825.3750 - multi_input_attention_mae: 0.0556 - val_dense_1_root_mean_squared_error: 942.5667 - val_loss: 888432.0625 - val_multi_input_attention_mae: 0.0556\n",
      "Epoch 21/100\n",
      "\u001b[1m105/105\u001b[0m \u001b[32m━━━━━━━━━━━━━━━━━━━━\u001b[0m\u001b[37m\u001b[0m \u001b[1m2s\u001b[0m 18ms/step - dense_1_root_mean_squared_error: 993.6683 - loss: 988655.5000 - multi_input_attention_mae: 0.0556 - val_dense_1_root_mean_squared_error: 943.0254 - val_loss: 889296.8750 - val_multi_input_attention_mae: 0.0556\n",
      "Epoch 22/100\n",
      "\u001b[1m105/105\u001b[0m \u001b[32m━━━━━━━━━━━━━━━━━━━━\u001b[0m\u001b[37m\u001b[0m \u001b[1m2s\u001b[0m 18ms/step - dense_1_root_mean_squared_error: 975.5083 - loss: 951890.1875 - multi_input_attention_mae: 0.0556 - val_dense_1_root_mean_squared_error: 941.3773 - val_loss: 886191.1875 - val_multi_input_attention_mae: 0.0556\n",
      "Epoch 23/100\n",
      "\u001b[1m105/105\u001b[0m \u001b[32m━━━━━━━━━━━━━━━━━━━━\u001b[0m\u001b[37m\u001b[0m \u001b[1m2s\u001b[0m 18ms/step - dense_1_root_mean_squared_error: 988.6710 - loss: 978677.5625 - multi_input_attention_mae: 0.0556 - val_dense_1_root_mean_squared_error: 939.5188 - val_loss: 882695.6250 - val_multi_input_attention_mae: 0.0556\n",
      "Epoch 24/100\n",
      "\u001b[1m105/105\u001b[0m \u001b[32m━━━━━━━━━━━━━━━━━━━━\u001b[0m\u001b[37m\u001b[0m \u001b[1m2s\u001b[0m 18ms/step - dense_1_root_mean_squared_error: 997.2445 - loss: 994792.5000 - multi_input_attention_mae: 0.0556 - val_dense_1_root_mean_squared_error: 939.4487 - val_loss: 882563.7500 - val_multi_input_attention_mae: 0.0556\n",
      "Epoch 25/100\n",
      "\u001b[1m105/105\u001b[0m \u001b[32m━━━━━━━━━━━━━━━━━━━━\u001b[0m\u001b[37m\u001b[0m \u001b[1m2s\u001b[0m 18ms/step - dense_1_root_mean_squared_error: 951.4457 - loss: 906982.1250 - multi_input_attention_mae: 0.0556 - val_dense_1_root_mean_squared_error: 936.6238 - val_loss: 877264.1875 - val_multi_input_attention_mae: 0.0556\n",
      "Epoch 26/100\n",
      "\u001b[1m105/105\u001b[0m \u001b[32m━━━━━━━━━━━━━━━━━━━━\u001b[0m\u001b[37m\u001b[0m \u001b[1m2s\u001b[0m 18ms/step - dense_1_root_mean_squared_error: 954.8257 - loss: 914509.6875 - multi_input_attention_mae: 0.0556 - val_dense_1_root_mean_squared_error: 936.2957 - val_loss: 876649.6250 - val_multi_input_attention_mae: 0.0556\n",
      "Epoch 27/100\n",
      "\u001b[1m105/105\u001b[0m \u001b[32m━━━━━━━━━━━━━━━━━━━━\u001b[0m\u001b[37m\u001b[0m \u001b[1m2s\u001b[0m 18ms/step - dense_1_root_mean_squared_error: 981.0460 - loss: 962917.6875 - multi_input_attention_mae: 0.0556 - val_dense_1_root_mean_squared_error: 935.5471 - val_loss: 875248.3125 - val_multi_input_attention_mae: 0.0556\n",
      "Epoch 28/100\n",
      "\u001b[1m105/105\u001b[0m \u001b[32m━━━━━━━━━━━━━━━━━━━━\u001b[0m\u001b[37m\u001b[0m \u001b[1m2s\u001b[0m 18ms/step - dense_1_root_mean_squared_error: 980.0702 - loss: 961357.0625 - multi_input_attention_mae: 0.0556 - val_dense_1_root_mean_squared_error: 935.2625 - val_loss: 874716.0000 - val_multi_input_attention_mae: 0.0556\n",
      "Epoch 29/100\n",
      "\u001b[1m105/105\u001b[0m \u001b[32m━━━━━━━━━━━━━━━━━━━━\u001b[0m\u001b[37m\u001b[0m \u001b[1m2s\u001b[0m 18ms/step - dense_1_root_mean_squared_error: 993.7061 - loss: 987950.6875 - multi_input_attention_mae: 0.0556 - val_dense_1_root_mean_squared_error: 927.7784 - val_loss: 860772.6875 - val_multi_input_attention_mae: 0.0556\n",
      "Epoch 30/100\n",
      "\u001b[1m105/105\u001b[0m \u001b[32m━━━━━━━━━━━━━━━━━━━━\u001b[0m\u001b[37m\u001b[0m \u001b[1m2s\u001b[0m 18ms/step - dense_1_root_mean_squared_error: 979.4982 - loss: 960022.2500 - multi_input_attention_mae: 0.0556 - val_dense_1_root_mean_squared_error: 926.2066 - val_loss: 857858.6250 - val_multi_input_attention_mae: 0.0556\n",
      "Epoch 31/100\n",
      "\u001b[1m105/105\u001b[0m \u001b[32m━━━━━━━━━━━━━━━━━━━━\u001b[0m\u001b[37m\u001b[0m \u001b[1m2s\u001b[0m 18ms/step - dense_1_root_mean_squared_error: 961.9622 - loss: 927352.2500 - multi_input_attention_mae: 0.0556 - val_dense_1_root_mean_squared_error: 921.2706 - val_loss: 848739.5625 - val_multi_input_attention_mae: 0.0556\n",
      "Epoch 32/100\n",
      "\u001b[1m105/105\u001b[0m \u001b[32m━━━━━━━━━━━━━━━━━━━━\u001b[0m\u001b[37m\u001b[0m \u001b[1m2s\u001b[0m 18ms/step - dense_1_root_mean_squared_error: 985.6154 - loss: 971736.4375 - multi_input_attention_mae: 0.0556 - val_dense_1_root_mean_squared_error: 920.9996 - val_loss: 848240.2500 - val_multi_input_attention_mae: 0.0556\n",
      "Epoch 33/100\n",
      "\u001b[1m105/105\u001b[0m \u001b[32m━━━━━━━━━━━━━━━━━━━━\u001b[0m\u001b[37m\u001b[0m \u001b[1m2s\u001b[0m 18ms/step - dense_1_root_mean_squared_error: 973.5482 - loss: 949256.1875 - multi_input_attention_mae: 0.0556 - val_dense_1_root_mean_squared_error: 915.0546 - val_loss: 837325.0000 - val_multi_input_attention_mae: 0.0556\n",
      "Epoch 34/100\n",
      "\u001b[1m105/105\u001b[0m \u001b[32m━━━━━━━━━━━━━━━━━━━━\u001b[0m\u001b[37m\u001b[0m \u001b[1m2s\u001b[0m 18ms/step - dense_1_root_mean_squared_error: 960.9374 - loss: 923749.9375 - multi_input_attention_mae: 0.0556 - val_dense_1_root_mean_squared_error: 907.4805 - val_loss: 823520.8125 - val_multi_input_attention_mae: 0.0556\n",
      "Epoch 35/100\n",
      "\u001b[1m105/105\u001b[0m \u001b[32m━━━━━━━━━━━━━━━━━━━━\u001b[0m\u001b[37m\u001b[0m \u001b[1m2s\u001b[0m 18ms/step - dense_1_root_mean_squared_error: 962.3515 - loss: 927398.5625 - multi_input_attention_mae: 0.0556 - val_dense_1_root_mean_squared_error: 913.6418 - val_loss: 834741.4375 - val_multi_input_attention_mae: 0.0556\n",
      "Epoch 36/100\n",
      "\u001b[1m105/105\u001b[0m \u001b[32m━━━━━━━━━━━━━━━━━━━━\u001b[0m\u001b[37m\u001b[0m \u001b[1m2s\u001b[0m 18ms/step - dense_1_root_mean_squared_error: 990.9503 - loss: 983677.9375 - multi_input_attention_mae: 0.0556 - val_dense_1_root_mean_squared_error: 897.8790 - val_loss: 806186.6250 - val_multi_input_attention_mae: 0.0556\n",
      "Epoch 37/100\n",
      "\u001b[1m105/105\u001b[0m \u001b[32m━━━━━━━━━━━━━━━━━━━━\u001b[0m\u001b[37m\u001b[0m \u001b[1m2s\u001b[0m 18ms/step - dense_1_root_mean_squared_error: 961.4745 - loss: 925961.8125 - multi_input_attention_mae: 0.0556 - val_dense_1_root_mean_squared_error: 896.2654 - val_loss: 803291.7500 - val_multi_input_attention_mae: 0.0556\n",
      "Epoch 38/100\n",
      "\u001b[1m105/105\u001b[0m \u001b[32m━━━━━━━━━━━━━━━━━━━━\u001b[0m\u001b[37m\u001b[0m \u001b[1m2s\u001b[0m 18ms/step - dense_1_root_mean_squared_error: 929.4627 - loss: 864772.4375 - multi_input_attention_mae: 0.0556 - val_dense_1_root_mean_squared_error: 893.9631 - val_loss: 799170.0625 - val_multi_input_attention_mae: 0.0556\n",
      "Epoch 39/100\n",
      "\u001b[1m105/105\u001b[0m \u001b[32m━━━━━━━━━━━━━━━━━━━━\u001b[0m\u001b[37m\u001b[0m \u001b[1m2s\u001b[0m 18ms/step - dense_1_root_mean_squared_error: 915.7679 - loss: 839428.8125 - multi_input_attention_mae: 0.0556 - val_dense_1_root_mean_squared_error: 885.6631 - val_loss: 784399.0625 - val_multi_input_attention_mae: 0.0556\n",
      "Epoch 40/100\n",
      "\u001b[1m105/105\u001b[0m \u001b[32m━━━━━━━━━━━━━━━━━━━━\u001b[0m\u001b[37m\u001b[0m \u001b[1m2s\u001b[0m 18ms/step - dense_1_root_mean_squared_error: 950.3821 - loss: 905034.1875 - multi_input_attention_mae: 0.0556 - val_dense_1_root_mean_squared_error: 889.6122 - val_loss: 791409.8125 - val_multi_input_attention_mae: 0.0556\n",
      "Epoch 41/100\n",
      "\u001b[1m105/105\u001b[0m \u001b[32m━━━━━━━━━━━━━━━━━━━━\u001b[0m\u001b[37m\u001b[0m \u001b[1m2s\u001b[0m 18ms/step - dense_1_root_mean_squared_error: 922.4470 - loss: 851933.6875 - multi_input_attention_mae: 0.0556 - val_dense_1_root_mean_squared_error: 881.9735 - val_loss: 777877.2500 - val_multi_input_attention_mae: 0.0556\n",
      "Epoch 42/100\n",
      "\u001b[1m105/105\u001b[0m \u001b[32m━━━━━━━━━━━━━━━━━━━━\u001b[0m\u001b[37m\u001b[0m \u001b[1m2s\u001b[0m 18ms/step - dense_1_root_mean_squared_error: 941.4023 - loss: 887095.9375 - multi_input_attention_mae: 0.0556 - val_dense_1_root_mean_squared_error: 884.1795 - val_loss: 781773.3750 - val_multi_input_attention_mae: 0.0556\n",
      "Epoch 43/100\n",
      "\u001b[1m105/105\u001b[0m \u001b[32m━━━━━━━━━━━━━━━━━━━━\u001b[0m\u001b[37m\u001b[0m \u001b[1m2s\u001b[0m 18ms/step - dense_1_root_mean_squared_error: 969.6006 - loss: 941053.6250 - multi_input_attention_mae: 0.0556 - val_dense_1_root_mean_squared_error: 882.9682 - val_loss: 779632.8125 - val_multi_input_attention_mae: 0.0556\n",
      "Epoch 44/100\n",
      "\u001b[1m105/105\u001b[0m \u001b[32m━━━━━━━━━━━━━━━━━━━━\u001b[0m\u001b[37m\u001b[0m \u001b[1m2s\u001b[0m 17ms/step - dense_1_root_mean_squared_error: 929.5883 - loss: 864624.8125 - multi_input_attention_mae: 0.0556 - val_dense_1_root_mean_squared_error: 886.1315 - val_loss: 785228.9375 - val_multi_input_attention_mae: 0.0556\n",
      "Epoch 45/100\n",
      "\u001b[1m105/105\u001b[0m \u001b[32m━━━━━━━━━━━━━━━━━━━━\u001b[0m\u001b[37m\u001b[0m \u001b[1m2s\u001b[0m 18ms/step - dense_1_root_mean_squared_error: 927.0781 - loss: 860228.9375 - multi_input_attention_mae: 0.0556 - val_dense_1_root_mean_squared_error: 886.2148 - val_loss: 785376.6875 - val_multi_input_attention_mae: 0.0556\n",
      "Epoch 46/100\n",
      "\u001b[1m105/105\u001b[0m \u001b[32m━━━━━━━━━━━━━━━━━━━━\u001b[0m\u001b[37m\u001b[0m \u001b[1m2s\u001b[0m 18ms/step - dense_1_root_mean_squared_error: 928.3142 - loss: 862288.2500 - multi_input_attention_mae: 0.0556 - val_dense_1_root_mean_squared_error: 885.3480 - val_loss: 783841.0625 - val_multi_input_attention_mae: 0.0556\n",
      "Epoch 47/100\n",
      "\u001b[1m105/105\u001b[0m \u001b[32m━━━━━━━━━━━━━━━━━━━━\u001b[0m\u001b[37m\u001b[0m \u001b[1m2s\u001b[0m 18ms/step - dense_1_root_mean_squared_error: 910.7626 - loss: 830175.1250 - multi_input_attention_mae: 0.0556 - val_dense_1_root_mean_squared_error: 883.1884 - val_loss: 780021.8125 - val_multi_input_attention_mae: 0.0556\n",
      "Epoch 48/100\n",
      "\u001b[1m105/105\u001b[0m \u001b[32m━━━━━━━━━━━━━━━━━━━━\u001b[0m\u001b[37m\u001b[0m \u001b[1m2s\u001b[0m 18ms/step - dense_1_root_mean_squared_error: 941.4323 - loss: 886680.4375 - multi_input_attention_mae: 0.0556 - val_dense_1_root_mean_squared_error: 890.7544 - val_loss: 793443.4375 - val_multi_input_attention_mae: 0.0556\n",
      "Epoch 49/100\n",
      "\u001b[1m105/105\u001b[0m \u001b[32m━━━━━━━━━━━━━━━━━━━━\u001b[0m\u001b[37m\u001b[0m \u001b[1m2s\u001b[0m 18ms/step - dense_1_root_mean_squared_error: 905.3105 - loss: 822513.6250 - multi_input_attention_mae: 0.0556 - val_dense_1_root_mean_squared_error: 886.0981 - val_loss: 785169.9375 - val_multi_input_attention_mae: 0.0556\n",
      "Epoch 50/100\n",
      "\u001b[1m105/105\u001b[0m \u001b[32m━━━━━━━━━━━━━━━━━━━━\u001b[0m\u001b[37m\u001b[0m \u001b[1m2s\u001b[0m 18ms/step - dense_1_root_mean_squared_error: 901.4998 - loss: 813432.8750 - multi_input_attention_mae: 0.0556 - val_dense_1_root_mean_squared_error: 884.5958 - val_loss: 782509.7500 - val_multi_input_attention_mae: 0.0556\n",
      "Epoch 51/100\n",
      "\u001b[1m105/105\u001b[0m \u001b[32m━━━━━━━━━━━━━━━━━━━━\u001b[0m\u001b[37m\u001b[0m \u001b[1m2s\u001b[0m 18ms/step - dense_1_root_mean_squared_error: 919.7183 - loss: 846877.6250 - multi_input_attention_mae: 0.0556 - val_dense_1_root_mean_squared_error: 886.4288 - val_loss: 785755.9375 - val_multi_input_attention_mae: 0.0556\n"
     ]
    },
    {
     "data": {
      "text/plain": [
       "<keras.src.callbacks.history.History at 0x1e4a5cc4450>"
      ]
     },
     "execution_count": 20,
     "metadata": {},
     "output_type": "execute_result"
    }
   ],
   "source": [
    "from tensorflow.keras.callbacks import EarlyStopping\n",
    "\n",
    "early_stopping = EarlyStopping(monitor='val_loss', patience=10, restore_best_weights=True)\n",
    "\n",
    "# Train the model\n",
    "model.fit(\n",
    "    X_train, \n",
    "    [y_train, np.zeros((len(y_train), X_train.shape[1]))],  # Dummy target for attention weights\n",
    "    epochs=100, \n",
    "    batch_size=16,\n",
    "    validation_split=0.2, \n",
    "    verbose=1,\n",
    "    callbacks=[early_stopping]\n",
    ")"
   ]
  },
  {
   "cell_type": "code",
   "execution_count": 21,
   "metadata": {},
   "outputs": [
    {
     "name": "stdout",
     "output_type": "stream",
     "text": [
      "\u001b[1m66/66\u001b[0m \u001b[32m━━━━━━━━━━━━━━━━━━━━\u001b[0m\u001b[37m\u001b[0m \u001b[1m2s\u001b[0m 16ms/step\n",
      "MSE Train: 840043.1091017735\n",
      "MAE Train: 719.386512706044\n",
      "RMSE Train: 916.5386566325359\n",
      "R2 Score Train: 0.32705422313477783\n"
     ]
    }
   ],
   "source": [
    "import numpy as np\n",
    "from sklearn.metrics import mean_squared_error, mean_absolute_error, r2_score\n",
    "\n",
    "# Predict\n",
    "y_pred, _ = model.predict(X_train)  # Unpack the two outputs\n",
    "\n",
    "# Reshape y_pred to match y_train\n",
    "y_pred = y_pred.reshape(-1)\n",
    "\n",
    "mse = mean_squared_error(y_train, y_pred)\n",
    "mae = mean_absolute_error(y_train, y_pred)\n",
    "rmse = np.sqrt(mse)\n",
    "r2 = r2_score(y_train, y_pred)\n",
    "\n",
    "print(\"MSE Train:\", mse)\n",
    "print(\"MAE Train:\", mae)\n",
    "print(\"RMSE Train:\", rmse)\n",
    "print(\"R2 Score Train:\", r2)"
   ]
  },
  {
   "cell_type": "code",
   "execution_count": 22,
   "metadata": {},
   "outputs": [
    {
     "name": "stdout",
     "output_type": "stream",
     "text": [
      "\u001b[1m17/17\u001b[0m \u001b[32m━━━━━━━━━━━━━━━━━━━━\u001b[0m\u001b[37m\u001b[0m \u001b[1m0s\u001b[0m 8ms/step\n",
      "MSE (Test): 855134.9381\n",
      "MAE (Test): 724.247913\n",
      "RMSE (Test): 924.7351\n",
      "R2 Score Train: 0.28534142856531064\n"
     ]
    }
   ],
   "source": [
    "import numpy as np\n",
    "from sklearn.metrics import mean_squared_error, mean_absolute_error, r2_score\n",
    "\n",
    "y_pred, _ = model.predict(X_test)\n",
    "\n",
    "# Reshape y_pred to match y_train\n",
    "y_pred = y_pred.reshape(-1)\n",
    "\n",
    "mse = mean_squared_error(y_test, y_pred)\n",
    "mae = mean_absolute_error(y_test, y_pred)\n",
    "rmse = np.sqrt(mse)\n",
    "r2 = r2_score(y_test, y_pred)\n",
    "\n",
    "print(f\"MSE (Test): {mse:.4f}\")\n",
    "print(f\"MAE (Test): {mae:4f}\")\n",
    "print(f\"RMSE (Test): {rmse:.4f}\")\n",
    "print(\"R2 Score Train:\", r2)"
   ]
  },
  {
   "cell_type": "code",
   "execution_count": 23,
   "metadata": {},
   "outputs": [
    {
     "name": "stdout",
     "output_type": "stream",
     "text": [
      "['04_rainfall', '05_rainfall', '06_rainfall', '07_rainfall', '08_rainfall', '09_rainfall', '04_solar', '05_solar', '06_solar', '07_solar', '08_solar', '09_solar', '04_temp_max', '05_temp_max', '06_temp_max', '07_temp_max', '08_temp_max', '09_temp_max']\n"
     ]
    }
   ],
   "source": [
    "column_names = merged_df.columns.tolist()\n",
    "if len(column_names) > 0:\n",
    "    column_names.pop(0)\n",
    "print(column_names)\n"
   ]
  },
  {
   "cell_type": "code",
   "execution_count": null,
   "metadata": {},
   "outputs": [
    {
     "name": "stdout",
     "output_type": "stream",
     "text": [
      "\u001b[1m17/17\u001b[0m \u001b[32m━━━━━━━━━━━━━━━━━━━━\u001b[0m\u001b[37m\u001b[0m \u001b[1m0s\u001b[0m 9ms/step\n"
     ]
    },
    {
     "data": {
      "image/png": "[encoded data removed]",
      "text/plain": [
       "<Figure size 800x600 with 1 Axes>"
      ]
     },
     "metadata": {},
     "output_type": "display_data"
    }
   ],
   "source": [
    "# Get predictions and attention weights for the test set\n",
    "predictions, attention_weights = model.predict(X_test)\n",
    "\n",
    "# Visualize attention weights for a specific test instance\n",
    "import matplotlib.pyplot as plt\n",
    "\n",
    "plt.figure(figsize=(8, 6))\n",
    "plt.bar(range(len(column_names)), attention_weights[0].reshape(-1), color='skyblue')\n",
    "plt.xticks(ticks=range(len(column_names)), labels=column_names, rotation=90)\n",
    "plt.xlabel('Timestamps')\n",
    "plt.ylabel('Attention Weight')\n",
    "plt.title('Attention Weights for Input Timestamps')\n",
    "plt.grid(True)\n",
    "plt.show()\n"
   ]
  },
  {
   "cell_type": "code",
   "execution_count": null,
   "metadata": {},
   "outputs": [
    {
     "data": {
      "image/png": "[encoded data removed]",
      "text/plain": [
       "<Figure size 1000x600 with 1 Axes>"
      ]
     },
     "metadata": {},
     "output_type": "display_data"
    }
   ],
   "source": [
    "feature_importance = np.mean(attention_weights, axis=0)\n",
    "feature_importance = np.squeeze(feature_importance)  \n",
    "\n",
    "# Plot the feature importance with feature names\n",
    "plt.figure(figsize=(10, 6))\n",
    "plt.bar(column_names, feature_importance, color='skyblue')\n",
    "plt.title('Feature Importance Based on Attention Weights')\n",
    "plt.xlabel('Features')\n",
    "plt.ylabel('Attention Weight')\n",
    "plt.xticks(rotation=90)  \n",
    "plt.grid(True)\n",
    "plt.show()\n"
   ]
  },
  {
   "cell_type": "code",
   "execution_count": 32,
   "metadata": {},
   "outputs": [
    {
     "name": "stdout",
     "output_type": "stream",
     "text": [
      "Attention Weights:\n",
      "[[[0.08586089]\n",
      "  [0.08603115]\n",
      "  [0.08603115]\n",
      "  ...\n",
      "  [0.05473713]\n",
      "  [0.05495839]\n",
      "  [0.05742206]]\n",
      "\n",
      " [[0.0768439 ]\n",
      "  [0.0746401 ]\n",
      "  [0.03423241]\n",
      "  ...\n",
      "  [0.04815036]\n",
      "  [0.04794459]\n",
      "  [0.04919777]]\n",
      "\n",
      " [[0.07773729]\n",
      "  [0.01589566]\n",
      "  [0.01286916]\n",
      "  ...\n",
      "  [0.05771017]\n",
      "  [0.0576546 ]\n",
      "  [0.05999467]]\n",
      "\n",
      " ...\n",
      "\n",
      " [[0.0768439 ]\n",
      "  [0.0746401 ]\n",
      "  [0.03423241]\n",
      "  ...\n",
      "  [0.04815036]\n",
      "  [0.04794459]\n",
      "  [0.04919777]]\n",
      "\n",
      " [[0.23661047]\n",
      "  [0.04184028]\n",
      "  [0.04127194]\n",
      "  ...\n",
      "  [0.04827731]\n",
      "  [0.04845821]\n",
      "  [0.05002775]]\n",
      "\n",
      " [[0.12885304]\n",
      "  [0.04213222]\n",
      "  [0.04166713]\n",
      "  ...\n",
      "  [0.05954203]\n",
      "  [0.05908095]\n",
      "  [0.06039903]]]\n"
     ]
    }
   ],
   "source": [
    "print(\"Attention Weights:\")\n",
    "print(attention_weights)"
   ]
  }
 ],
 "metadata": {
  "kernelspec": {
   "display_name": "Python 3",
   "language": "python",
   "name": "python3"
  },
  "language_info": {
   "codemirror_mode": {
    "name": "ipython",
    "version": 3
   },
   "file_extension": ".py",
   "mimetype": "text/x-python",
   "name": "python",
   "nbconvert_exporter": "python",
   "pygments_lexer": "ipython3",
   "version": "3.11.7"
  }
 },
 "nbformat": 4,
 "nbformat_minor": 2
}
