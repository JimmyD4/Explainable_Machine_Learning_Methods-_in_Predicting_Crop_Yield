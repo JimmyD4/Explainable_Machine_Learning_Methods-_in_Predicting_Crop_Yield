{
 "cells": [
  {
   "cell_type": "markdown",
   "id": "70dcd51b",
   "metadata": {},
   "source": [
    "## Dataset - Genotype "
   ]
  },
  {
   "cell_type": "code",
   "execution_count": 1,
   "id": "d3b8aea3",
   "metadata": {},
   "outputs": [
    {
     "data": {
      "text/html": [
       "<div>\n",
       "<style scoped>\n",
       "    .dataframe tbody tr th:only-of-type {\n",
       "        vertical-align: middle;\n",
       "    }\n",
       "\n",
       "    .dataframe tbody tr th {\n",
       "        vertical-align: top;\n",
       "    }\n",
       "\n",
       "    .dataframe thead th {\n",
       "        text-align: right;\n",
       "    }\n",
       "</style>\n",
       "<table border=\"1\" class=\"dataframe\">\n",
       "  <thead>\n",
       "    <tr style=\"text-align: right;\">\n",
       "      <th></th>\n",
       "      <th>Variety</th>\n",
       "      <th>Reason</th>\n",
       "      <th>Year</th>\n",
       "      <th>Study</th>\n",
       "      <th>Location</th>\n",
       "      <th>ZS49PlHt</th>\n",
       "      <th>ZS49 (no days)</th>\n",
       "      <th>HrvPlHt</th>\n",
       "      <th>GrYld(kg/ha)</th>\n",
       "      <th>D1H00051861</th>\n",
       "      <th>...</th>\n",
       "      <th>L7H657085535</th>\n",
       "      <th>L7H657085541</th>\n",
       "      <th>L7H657104991</th>\n",
       "      <th>L7H657131781</th>\n",
       "      <th>L7H657146353</th>\n",
       "      <th>L7H657146356</th>\n",
       "      <th>L7H657147154</th>\n",
       "      <th>L7H657147171</th>\n",
       "      <th>L7H657147173</th>\n",
       "      <th>L7H657156298</th>\n",
       "    </tr>\n",
       "  </thead>\n",
       "  <tbody>\n",
       "    <tr>\n",
       "      <th>0</th>\n",
       "      <td>Commander</td>\n",
       "      <td>AUS-CTL</td>\n",
       "      <td>2014</td>\n",
       "      <td>NtL</td>\n",
       "      <td>STHPER</td>\n",
       "      <td>55.0</td>\n",
       "      <td>92.000000</td>\n",
       "      <td>72.0</td>\n",
       "      <td>NaN</td>\n",
       "      <td>1</td>\n",
       "      <td>...</td>\n",
       "      <td>1</td>\n",
       "      <td>1</td>\n",
       "      <td>1</td>\n",
       "      <td>1</td>\n",
       "      <td>1</td>\n",
       "      <td>1</td>\n",
       "      <td>0</td>\n",
       "      <td>1</td>\n",
       "      <td>1</td>\n",
       "      <td>1</td>\n",
       "    </tr>\n",
       "    <tr>\n",
       "      <th>1</th>\n",
       "      <td>Commander</td>\n",
       "      <td>AUS-CTL</td>\n",
       "      <td>2014</td>\n",
       "      <td>18Hrs</td>\n",
       "      <td>STHPER</td>\n",
       "      <td>38.0</td>\n",
       "      <td>63.000000</td>\n",
       "      <td>55.0</td>\n",
       "      <td>NaN</td>\n",
       "      <td>1</td>\n",
       "      <td>...</td>\n",
       "      <td>1</td>\n",
       "      <td>1</td>\n",
       "      <td>1</td>\n",
       "      <td>1</td>\n",
       "      <td>1</td>\n",
       "      <td>1</td>\n",
       "      <td>0</td>\n",
       "      <td>1</td>\n",
       "      <td>1</td>\n",
       "      <td>1</td>\n",
       "    </tr>\n",
       "    <tr>\n",
       "      <th>2</th>\n",
       "      <td>Commander</td>\n",
       "      <td>AUS-CTL</td>\n",
       "      <td>2015</td>\n",
       "      <td>TOP1</td>\n",
       "      <td>NaN</td>\n",
       "      <td>NaN</td>\n",
       "      <td>104.272727</td>\n",
       "      <td>NaN</td>\n",
       "      <td>NaN</td>\n",
       "      <td>1</td>\n",
       "      <td>...</td>\n",
       "      <td>1</td>\n",
       "      <td>1</td>\n",
       "      <td>1</td>\n",
       "      <td>1</td>\n",
       "      <td>1</td>\n",
       "      <td>1</td>\n",
       "      <td>0</td>\n",
       "      <td>1</td>\n",
       "      <td>1</td>\n",
       "      <td>1</td>\n",
       "    </tr>\n",
       "    <tr>\n",
       "      <th>3</th>\n",
       "      <td>Commander</td>\n",
       "      <td>AUS-CTL</td>\n",
       "      <td>2015</td>\n",
       "      <td>TOP2</td>\n",
       "      <td>NaN</td>\n",
       "      <td>NaN</td>\n",
       "      <td>105.000000</td>\n",
       "      <td>NaN</td>\n",
       "      <td>NaN</td>\n",
       "      <td>1</td>\n",
       "      <td>...</td>\n",
       "      <td>1</td>\n",
       "      <td>1</td>\n",
       "      <td>1</td>\n",
       "      <td>1</td>\n",
       "      <td>1</td>\n",
       "      <td>1</td>\n",
       "      <td>0</td>\n",
       "      <td>1</td>\n",
       "      <td>1</td>\n",
       "      <td>1</td>\n",
       "    </tr>\n",
       "    <tr>\n",
       "      <th>4</th>\n",
       "      <td>Commander</td>\n",
       "      <td>AUS-CTL</td>\n",
       "      <td>2015</td>\n",
       "      <td>TOP3</td>\n",
       "      <td>NaN</td>\n",
       "      <td>NaN</td>\n",
       "      <td>96.333333</td>\n",
       "      <td>NaN</td>\n",
       "      <td>NaN</td>\n",
       "      <td>1</td>\n",
       "      <td>...</td>\n",
       "      <td>1</td>\n",
       "      <td>1</td>\n",
       "      <td>1</td>\n",
       "      <td>1</td>\n",
       "      <td>1</td>\n",
       "      <td>1</td>\n",
       "      <td>0</td>\n",
       "      <td>1</td>\n",
       "      <td>1</td>\n",
       "      <td>1</td>\n",
       "    </tr>\n",
       "  </tbody>\n",
       "</table>\n",
       "<p>5 rows × 30552 columns</p>\n",
       "</div>"
      ],
      "text/plain": [
       "     Variety   Reason  Year  Study Location  ZS49PlHt  ZS49 (no days)  \\\n",
       "0  Commander  AUS-CTL  2014    NtL   STHPER      55.0       92.000000   \n",
       "1  Commander  AUS-CTL  2014  18Hrs   STHPER      38.0       63.000000   \n",
       "2  Commander  AUS-CTL  2015   TOP1      NaN       NaN      104.272727   \n",
       "3  Commander  AUS-CTL  2015   TOP2      NaN       NaN      105.000000   \n",
       "4  Commander  AUS-CTL  2015   TOP3      NaN       NaN       96.333333   \n",
       "\n",
       "   HrvPlHt  GrYld(kg/ha)  D1H00051861  ...  L7H657085535  L7H657085541  \\\n",
       "0     72.0           NaN            1  ...             1             1   \n",
       "1     55.0           NaN            1  ...             1             1   \n",
       "2      NaN           NaN            1  ...             1             1   \n",
       "3      NaN           NaN            1  ...             1             1   \n",
       "4      NaN           NaN            1  ...             1             1   \n",
       "\n",
       "   L7H657104991  L7H657131781  L7H657146353  L7H657146356  L7H657147154  \\\n",
       "0             1             1             1             1             0   \n",
       "1             1             1             1             1             0   \n",
       "2             1             1             1             1             0   \n",
       "3             1             1             1             1             0   \n",
       "4             1             1             1             1             0   \n",
       "\n",
       "   L7H657147171  L7H657147173  L7H657156298  \n",
       "0             1             1             1  \n",
       "1             1             1             1  \n",
       "2             1             1             1  \n",
       "3             1             1             1  \n",
       "4             1             1             1  \n",
       "\n",
       "[5 rows x 30552 columns]"
      ]
     },
     "execution_count": 1,
     "metadata": {},
     "output_type": "execute_result"
    }
   ],
   "source": [
    "import pandas as pd\n",
    "\n",
    "merged_data = pd.read_csv('merged_data_final.csv')\n",
    "\n",
    "merged_data.head()"
   ]
  },
  {
   "cell_type": "code",
   "execution_count": 2,
   "id": "cb8cf818",
   "metadata": {},
   "outputs": [
    {
     "data": {
      "text/plain": [
       "Variety            0\n",
       "Reason             0\n",
       "Year               0\n",
       "Study           2670\n",
       "Location        1335\n",
       "                ... \n",
       "L7H657146356       0\n",
       "L7H657147154       0\n",
       "L7H657147171       0\n",
       "L7H657147173       0\n",
       "L7H657156298       0\n",
       "Length: 30552, dtype: int64"
      ]
     },
     "execution_count": 2,
     "metadata": {},
     "output_type": "execute_result"
    }
   ],
   "source": [
    "merged_data.isnull().sum()"
   ]
  },
  {
   "cell_type": "code",
   "execution_count": 3,
   "id": "d413aa3f",
   "metadata": {},
   "outputs": [
    {
     "data": {
      "text/plain": [
       "(6675, 30552)"
      ]
     },
     "execution_count": 3,
     "metadata": {},
     "output_type": "execute_result"
    }
   ],
   "source": [
    "merged_data.shape"
   ]
  },
  {
   "cell_type": "markdown",
   "id": "be48531a",
   "metadata": {},
   "source": [
    "### Assigining missing value in Study with no treatment"
   ]
  },
  {
   "cell_type": "code",
   "execution_count": 4,
   "id": "809c4920",
   "metadata": {},
   "outputs": [
    {
     "name": "stderr",
     "output_type": "stream",
     "text": [
      "C:\\Users\\34647859\\AppData\\Local\\Temp\\ipykernel_14600\\2443944531.py:1: FutureWarning: A value is trying to be set on a copy of a DataFrame or Series through chained assignment using an inplace method.\n",
      "The behavior will change in pandas 3.0. This inplace method will never work because the intermediate object on which we are setting values always behaves as a copy.\n",
      "\n",
      "For example, when doing 'df[col].method(value, inplace=True)', try using 'df.method({col: value}, inplace=True)' or df[col] = df[col].method(value) instead, to perform the operation inplace on the original object.\n",
      "\n",
      "\n",
      "  merged_data['Study'].fillna('No Treatment', inplace=True)\n"
     ]
    }
   ],
   "source": [
    "merged_data['Study'].fillna('No Treatment', inplace=True)"
   ]
  },
  {
   "cell_type": "code",
   "execution_count": 5,
   "id": "a5e89f7b",
   "metadata": {},
   "outputs": [
    {
     "data": {
      "text/plain": [
       "array(['NtL', '18Hrs', 'TOP1', 'TOP2', 'TOP3', 'NatL', 'No Treatment',\n",
       "       '1NI', '2Ir'], dtype=object)"
      ]
     },
     "execution_count": 5,
     "metadata": {},
     "output_type": "execute_result"
    }
   ],
   "source": [
    "merged_data['Study'].unique()"
   ]
  },
  {
   "cell_type": "code",
   "execution_count": 6,
   "id": "8d8b40ea",
   "metadata": {},
   "outputs": [
    {
     "name": "stdout",
     "output_type": "stream",
     "text": [
      "Variety              0\n",
      "Reason               0\n",
      "Year                 0\n",
      "Study                0\n",
      "Location          1335\n",
      "ZS49PlHt          2448\n",
      "ZS49 (no days)    1458\n",
      "HrvPlHt           5872\n",
      "GrYld(kg/ha)      4058\n",
      "D1H00051861          0\n",
      "dtype: int64\n"
     ]
    }
   ],
   "source": [
    "missing_values_count = merged_data.iloc[:, 0:10].isna().sum()\n",
    "print(missing_values_count)"
   ]
  },
  {
   "cell_type": "code",
   "execution_count": 7,
   "id": "29a9f4e4",
   "metadata": {},
   "outputs": [],
   "source": [
    "dataset = merged_data.copy()"
   ]
  },
  {
   "cell_type": "code",
   "execution_count": 8,
   "id": "f460450d",
   "metadata": {},
   "outputs": [
    {
     "data": {
      "text/plain": [
       "(6675, 30552)"
      ]
     },
     "execution_count": 8,
     "metadata": {},
     "output_type": "execute_result"
    }
   ],
   "source": [
    "dataset.shape"
   ]
  },
  {
   "cell_type": "code",
   "execution_count": 9,
   "id": "20d98d1e",
   "metadata": {},
   "outputs": [],
   "source": [
    "dataset.dropna(subset=['Location'], inplace=True)"
   ]
  },
  {
   "cell_type": "code",
   "execution_count": 10,
   "id": "bbc874a5",
   "metadata": {},
   "outputs": [
    {
     "name": "stdout",
     "output_type": "stream",
     "text": [
      "Variety              0\n",
      "Reason               0\n",
      "Year                 0\n",
      "Study                0\n",
      "Location             0\n",
      "ZS49PlHt          1113\n",
      "ZS49 (no days)    1137\n",
      "HrvPlHt           4537\n",
      "GrYld(kg/ha)      2723\n",
      "D1H00051861          0\n",
      "D1H000263584         0\n",
      "D1H000275564         0\n",
      "D1H000277624         0\n",
      "D1H000277628         0\n",
      "D1H000277656         0\n",
      "dtype: int64\n"
     ]
    }
   ],
   "source": [
    "missing_values_count = dataset.iloc[:, 0:15].isna().sum()\n",
    "print(missing_values_count)"
   ]
  },
  {
   "cell_type": "code",
   "execution_count": 11,
   "id": "3fe2bc7a",
   "metadata": {},
   "outputs": [],
   "source": [
    "dataset.drop(columns=['ZS49PlHt','HrvPlHt','ZS49 (no days)'], inplace=True)"
   ]
  },
  {
   "cell_type": "code",
   "execution_count": 12,
   "id": "fd9da56d",
   "metadata": {},
   "outputs": [
    {
     "data": {
      "text/html": [
       "<div>\n",
       "<style scoped>\n",
       "    .dataframe tbody tr th:only-of-type {\n",
       "        vertical-align: middle;\n",
       "    }\n",
       "\n",
       "    .dataframe tbody tr th {\n",
       "        vertical-align: top;\n",
       "    }\n",
       "\n",
       "    .dataframe thead th {\n",
       "        text-align: right;\n",
       "    }\n",
       "</style>\n",
       "<table border=\"1\" class=\"dataframe\">\n",
       "  <thead>\n",
       "    <tr style=\"text-align: right;\">\n",
       "      <th></th>\n",
       "      <th>Variety</th>\n",
       "      <th>Reason</th>\n",
       "      <th>Year</th>\n",
       "      <th>Study</th>\n",
       "      <th>Location</th>\n",
       "      <th>GrYld(kg/ha)</th>\n",
       "      <th>D1H00051861</th>\n",
       "      <th>D1H000263584</th>\n",
       "      <th>D1H000275564</th>\n",
       "      <th>D1H000277624</th>\n",
       "      <th>...</th>\n",
       "      <th>L7H657085535</th>\n",
       "      <th>L7H657085541</th>\n",
       "      <th>L7H657104991</th>\n",
       "      <th>L7H657131781</th>\n",
       "      <th>L7H657146353</th>\n",
       "      <th>L7H657146356</th>\n",
       "      <th>L7H657147154</th>\n",
       "      <th>L7H657147171</th>\n",
       "      <th>L7H657147173</th>\n",
       "      <th>L7H657156298</th>\n",
       "    </tr>\n",
       "  </thead>\n",
       "  <tbody>\n",
       "    <tr>\n",
       "      <th>0</th>\n",
       "      <td>Commander</td>\n",
       "      <td>AUS-CTL</td>\n",
       "      <td>2014</td>\n",
       "      <td>NtL</td>\n",
       "      <td>STHPER</td>\n",
       "      <td>NaN</td>\n",
       "      <td>1</td>\n",
       "      <td>1</td>\n",
       "      <td>1</td>\n",
       "      <td>1</td>\n",
       "      <td>...</td>\n",
       "      <td>1</td>\n",
       "      <td>1</td>\n",
       "      <td>1</td>\n",
       "      <td>1</td>\n",
       "      <td>1</td>\n",
       "      <td>1</td>\n",
       "      <td>0</td>\n",
       "      <td>1</td>\n",
       "      <td>1</td>\n",
       "      <td>1</td>\n",
       "    </tr>\n",
       "    <tr>\n",
       "      <th>1</th>\n",
       "      <td>Commander</td>\n",
       "      <td>AUS-CTL</td>\n",
       "      <td>2014</td>\n",
       "      <td>18Hrs</td>\n",
       "      <td>STHPER</td>\n",
       "      <td>NaN</td>\n",
       "      <td>1</td>\n",
       "      <td>1</td>\n",
       "      <td>1</td>\n",
       "      <td>1</td>\n",
       "      <td>...</td>\n",
       "      <td>1</td>\n",
       "      <td>1</td>\n",
       "      <td>1</td>\n",
       "      <td>1</td>\n",
       "      <td>1</td>\n",
       "      <td>1</td>\n",
       "      <td>0</td>\n",
       "      <td>1</td>\n",
       "      <td>1</td>\n",
       "      <td>1</td>\n",
       "    </tr>\n",
       "    <tr>\n",
       "      <th>5</th>\n",
       "      <td>Commander</td>\n",
       "      <td>AUS-CTL</td>\n",
       "      <td>2016</td>\n",
       "      <td>NatL</td>\n",
       "      <td>STHPER</td>\n",
       "      <td>NaN</td>\n",
       "      <td>1</td>\n",
       "      <td>1</td>\n",
       "      <td>1</td>\n",
       "      <td>1</td>\n",
       "      <td>...</td>\n",
       "      <td>1</td>\n",
       "      <td>1</td>\n",
       "      <td>1</td>\n",
       "      <td>1</td>\n",
       "      <td>1</td>\n",
       "      <td>1</td>\n",
       "      <td>0</td>\n",
       "      <td>1</td>\n",
       "      <td>1</td>\n",
       "      <td>1</td>\n",
       "    </tr>\n",
       "    <tr>\n",
       "      <th>6</th>\n",
       "      <td>Commander</td>\n",
       "      <td>AUS-CTL</td>\n",
       "      <td>2016</td>\n",
       "      <td>18Hrs</td>\n",
       "      <td>STHPER</td>\n",
       "      <td>NaN</td>\n",
       "      <td>1</td>\n",
       "      <td>1</td>\n",
       "      <td>1</td>\n",
       "      <td>1</td>\n",
       "      <td>...</td>\n",
       "      <td>1</td>\n",
       "      <td>1</td>\n",
       "      <td>1</td>\n",
       "      <td>1</td>\n",
       "      <td>1</td>\n",
       "      <td>1</td>\n",
       "      <td>0</td>\n",
       "      <td>1</td>\n",
       "      <td>1</td>\n",
       "      <td>1</td>\n",
       "    </tr>\n",
       "    <tr>\n",
       "      <th>7</th>\n",
       "      <td>Commander</td>\n",
       "      <td>AUS-CTL</td>\n",
       "      <td>2015</td>\n",
       "      <td>No Treatment</td>\n",
       "      <td>GER</td>\n",
       "      <td>2410.546686</td>\n",
       "      <td>1</td>\n",
       "      <td>1</td>\n",
       "      <td>1</td>\n",
       "      <td>1</td>\n",
       "      <td>...</td>\n",
       "      <td>1</td>\n",
       "      <td>1</td>\n",
       "      <td>1</td>\n",
       "      <td>1</td>\n",
       "      <td>1</td>\n",
       "      <td>1</td>\n",
       "      <td>0</td>\n",
       "      <td>1</td>\n",
       "      <td>1</td>\n",
       "      <td>1</td>\n",
       "    </tr>\n",
       "  </tbody>\n",
       "</table>\n",
       "<p>5 rows × 30549 columns</p>\n",
       "</div>"
      ],
      "text/plain": [
       "     Variety   Reason  Year         Study Location  GrYld(kg/ha)  D1H00051861  \\\n",
       "0  Commander  AUS-CTL  2014           NtL   STHPER           NaN            1   \n",
       "1  Commander  AUS-CTL  2014         18Hrs   STHPER           NaN            1   \n",
       "5  Commander  AUS-CTL  2016          NatL   STHPER           NaN            1   \n",
       "6  Commander  AUS-CTL  2016         18Hrs   STHPER           NaN            1   \n",
       "7  Commander  AUS-CTL  2015  No Treatment      GER   2410.546686            1   \n",
       "\n",
       "   D1H000263584  D1H000275564  D1H000277624  ...  L7H657085535  L7H657085541  \\\n",
       "0             1             1             1  ...             1             1   \n",
       "1             1             1             1  ...             1             1   \n",
       "5             1             1             1  ...             1             1   \n",
       "6             1             1             1  ...             1             1   \n",
       "7             1             1             1  ...             1             1   \n",
       "\n",
       "   L7H657104991  L7H657131781  L7H657146353  L7H657146356  L7H657147154  \\\n",
       "0             1             1             1             1             0   \n",
       "1             1             1             1             1             0   \n",
       "5             1             1             1             1             0   \n",
       "6             1             1             1             1             0   \n",
       "7             1             1             1             1             0   \n",
       "\n",
       "   L7H657147171  L7H657147173  L7H657156298  \n",
       "0             1             1             1  \n",
       "1             1             1             1  \n",
       "5             1             1             1  \n",
       "6             1             1             1  \n",
       "7             1             1             1  \n",
       "\n",
       "[5 rows x 30549 columns]"
      ]
     },
     "execution_count": 12,
     "metadata": {},
     "output_type": "execute_result"
    }
   ],
   "source": [
    "dataset.head()"
   ]
  },
  {
   "cell_type": "code",
   "execution_count": 13,
   "id": "91666e0c",
   "metadata": {},
   "outputs": [
    {
     "name": "stdout",
     "output_type": "stream",
     "text": [
      "Variety            0\n",
      "Reason             0\n",
      "Year               0\n",
      "Study              0\n",
      "Location           0\n",
      "GrYld(kg/ha)    2723\n",
      "D1H00051861        0\n",
      "D1H000263584       0\n",
      "D1H000275564       0\n",
      "D1H000277624       0\n",
      "dtype: int64\n"
     ]
    }
   ],
   "source": [
    "missing_values_count = dataset.iloc[:, 0:10].isna().sum()\n",
    "print(missing_values_count)"
   ]
  },
  {
   "cell_type": "code",
   "execution_count": 14,
   "id": "85796abf",
   "metadata": {},
   "outputs": [
    {
     "data": {
      "text/plain": [
       "(5340, 30549)"
      ]
     },
     "execution_count": 14,
     "metadata": {},
     "output_type": "execute_result"
    }
   ],
   "source": [
    "dataset.shape"
   ]
  },
  {
   "cell_type": "code",
   "execution_count": 15,
   "id": "332051bc",
   "metadata": {},
   "outputs": [
    {
     "data": {
      "text/html": [
       "<div>\n",
       "<style scoped>\n",
       "    .dataframe tbody tr th:only-of-type {\n",
       "        vertical-align: middle;\n",
       "    }\n",
       "\n",
       "    .dataframe tbody tr th {\n",
       "        vertical-align: top;\n",
       "    }\n",
       "\n",
       "    .dataframe thead th {\n",
       "        text-align: right;\n",
       "    }\n",
       "</style>\n",
       "<table border=\"1\" class=\"dataframe\">\n",
       "  <thead>\n",
       "    <tr style=\"text-align: right;\">\n",
       "      <th></th>\n",
       "      <th>Variety</th>\n",
       "      <th>Reason</th>\n",
       "      <th>Year</th>\n",
       "      <th>Study</th>\n",
       "      <th>Location</th>\n",
       "      <th>GrYld(kg/ha)</th>\n",
       "      <th>D1H00051861</th>\n",
       "      <th>D1H000263584</th>\n",
       "      <th>D1H000275564</th>\n",
       "      <th>D1H000277624</th>\n",
       "      <th>...</th>\n",
       "      <th>L7H657085535</th>\n",
       "      <th>L7H657085541</th>\n",
       "      <th>L7H657104991</th>\n",
       "      <th>L7H657131781</th>\n",
       "      <th>L7H657146353</th>\n",
       "      <th>L7H657146356</th>\n",
       "      <th>L7H657147154</th>\n",
       "      <th>L7H657147171</th>\n",
       "      <th>L7H657147173</th>\n",
       "      <th>L7H657156298</th>\n",
       "    </tr>\n",
       "  </thead>\n",
       "  <tbody>\n",
       "    <tr>\n",
       "      <th>0</th>\n",
       "      <td>Commander</td>\n",
       "      <td>AUS-CTL</td>\n",
       "      <td>2014</td>\n",
       "      <td>NtL</td>\n",
       "      <td>STHPER</td>\n",
       "      <td>NaN</td>\n",
       "      <td>1</td>\n",
       "      <td>1</td>\n",
       "      <td>1</td>\n",
       "      <td>1</td>\n",
       "      <td>...</td>\n",
       "      <td>1</td>\n",
       "      <td>1</td>\n",
       "      <td>1</td>\n",
       "      <td>1</td>\n",
       "      <td>1</td>\n",
       "      <td>1</td>\n",
       "      <td>0</td>\n",
       "      <td>1</td>\n",
       "      <td>1</td>\n",
       "      <td>1</td>\n",
       "    </tr>\n",
       "    <tr>\n",
       "      <th>1</th>\n",
       "      <td>Commander</td>\n",
       "      <td>AUS-CTL</td>\n",
       "      <td>2014</td>\n",
       "      <td>18Hrs</td>\n",
       "      <td>STHPER</td>\n",
       "      <td>NaN</td>\n",
       "      <td>1</td>\n",
       "      <td>1</td>\n",
       "      <td>1</td>\n",
       "      <td>1</td>\n",
       "      <td>...</td>\n",
       "      <td>1</td>\n",
       "      <td>1</td>\n",
       "      <td>1</td>\n",
       "      <td>1</td>\n",
       "      <td>1</td>\n",
       "      <td>1</td>\n",
       "      <td>0</td>\n",
       "      <td>1</td>\n",
       "      <td>1</td>\n",
       "      <td>1</td>\n",
       "    </tr>\n",
       "    <tr>\n",
       "      <th>5</th>\n",
       "      <td>Commander</td>\n",
       "      <td>AUS-CTL</td>\n",
       "      <td>2016</td>\n",
       "      <td>NatL</td>\n",
       "      <td>STHPER</td>\n",
       "      <td>NaN</td>\n",
       "      <td>1</td>\n",
       "      <td>1</td>\n",
       "      <td>1</td>\n",
       "      <td>1</td>\n",
       "      <td>...</td>\n",
       "      <td>1</td>\n",
       "      <td>1</td>\n",
       "      <td>1</td>\n",
       "      <td>1</td>\n",
       "      <td>1</td>\n",
       "      <td>1</td>\n",
       "      <td>0</td>\n",
       "      <td>1</td>\n",
       "      <td>1</td>\n",
       "      <td>1</td>\n",
       "    </tr>\n",
       "    <tr>\n",
       "      <th>6</th>\n",
       "      <td>Commander</td>\n",
       "      <td>AUS-CTL</td>\n",
       "      <td>2016</td>\n",
       "      <td>18Hrs</td>\n",
       "      <td>STHPER</td>\n",
       "      <td>NaN</td>\n",
       "      <td>1</td>\n",
       "      <td>1</td>\n",
       "      <td>1</td>\n",
       "      <td>1</td>\n",
       "      <td>...</td>\n",
       "      <td>1</td>\n",
       "      <td>1</td>\n",
       "      <td>1</td>\n",
       "      <td>1</td>\n",
       "      <td>1</td>\n",
       "      <td>1</td>\n",
       "      <td>0</td>\n",
       "      <td>1</td>\n",
       "      <td>1</td>\n",
       "      <td>1</td>\n",
       "    </tr>\n",
       "    <tr>\n",
       "      <th>7</th>\n",
       "      <td>Commander</td>\n",
       "      <td>AUS-CTL</td>\n",
       "      <td>2015</td>\n",
       "      <td>No Treatment</td>\n",
       "      <td>GER</td>\n",
       "      <td>2410.546686</td>\n",
       "      <td>1</td>\n",
       "      <td>1</td>\n",
       "      <td>1</td>\n",
       "      <td>1</td>\n",
       "      <td>...</td>\n",
       "      <td>1</td>\n",
       "      <td>1</td>\n",
       "      <td>1</td>\n",
       "      <td>1</td>\n",
       "      <td>1</td>\n",
       "      <td>1</td>\n",
       "      <td>0</td>\n",
       "      <td>1</td>\n",
       "      <td>1</td>\n",
       "      <td>1</td>\n",
       "    </tr>\n",
       "  </tbody>\n",
       "</table>\n",
       "<p>5 rows × 30549 columns</p>\n",
       "</div>"
      ],
      "text/plain": [
       "     Variety   Reason  Year         Study Location  GrYld(kg/ha)  D1H00051861  \\\n",
       "0  Commander  AUS-CTL  2014           NtL   STHPER           NaN            1   \n",
       "1  Commander  AUS-CTL  2014         18Hrs   STHPER           NaN            1   \n",
       "5  Commander  AUS-CTL  2016          NatL   STHPER           NaN            1   \n",
       "6  Commander  AUS-CTL  2016         18Hrs   STHPER           NaN            1   \n",
       "7  Commander  AUS-CTL  2015  No Treatment      GER   2410.546686            1   \n",
       "\n",
       "   D1H000263584  D1H000275564  D1H000277624  ...  L7H657085535  L7H657085541  \\\n",
       "0             1             1             1  ...             1             1   \n",
       "1             1             1             1  ...             1             1   \n",
       "5             1             1             1  ...             1             1   \n",
       "6             1             1             1  ...             1             1   \n",
       "7             1             1             1  ...             1             1   \n",
       "\n",
       "   L7H657104991  L7H657131781  L7H657146353  L7H657146356  L7H657147154  \\\n",
       "0             1             1             1             1             0   \n",
       "1             1             1             1             1             0   \n",
       "5             1             1             1             1             0   \n",
       "6             1             1             1             1             0   \n",
       "7             1             1             1             1             0   \n",
       "\n",
       "   L7H657147171  L7H657147173  L7H657156298  \n",
       "0             1             1             1  \n",
       "1             1             1             1  \n",
       "5             1             1             1  \n",
       "6             1             1             1  \n",
       "7             1             1             1  \n",
       "\n",
       "[5 rows x 30549 columns]"
      ]
     },
     "execution_count": 15,
     "metadata": {},
     "output_type": "execute_result"
    }
   ],
   "source": [
    "dataset.head()"
   ]
  },
  {
   "cell_type": "code",
   "execution_count": 16,
   "id": "d1b06402",
   "metadata": {},
   "outputs": [],
   "source": [
    "from sklearn.preprocessing import LabelEncoder\n",
    "\n",
    "label_encoder = LabelEncoder()\n",
    "dataset['Reason']= label_encoder.fit_transform(dataset['Reason'])\n",
    "dataset['Year']= label_encoder.fit_transform(dataset['Year'])\n",
    "dataset['Study']= label_encoder.fit_transform(dataset['Study'])\n",
    "dataset['Location']= label_encoder.fit_transform(dataset['Location'])"
   ]
  },
  {
   "cell_type": "code",
   "execution_count": 17,
   "id": "e6ce2e66",
   "metadata": {},
   "outputs": [
    {
     "data": {
      "text/html": [
       "<div>\n",
       "<style scoped>\n",
       "    .dataframe tbody tr th:only-of-type {\n",
       "        vertical-align: middle;\n",
       "    }\n",
       "\n",
       "    .dataframe tbody tr th {\n",
       "        vertical-align: top;\n",
       "    }\n",
       "\n",
       "    .dataframe thead th {\n",
       "        text-align: right;\n",
       "    }\n",
       "</style>\n",
       "<table border=\"1\" class=\"dataframe\">\n",
       "  <thead>\n",
       "    <tr style=\"text-align: right;\">\n",
       "      <th></th>\n",
       "      <th>Variety</th>\n",
       "      <th>Reason</th>\n",
       "      <th>Year</th>\n",
       "      <th>Study</th>\n",
       "      <th>Location</th>\n",
       "      <th>GrYld(kg/ha)</th>\n",
       "      <th>D1H00051861</th>\n",
       "      <th>D1H000263584</th>\n",
       "      <th>D1H000275564</th>\n",
       "      <th>D1H000277624</th>\n",
       "      <th>...</th>\n",
       "      <th>L7H657085535</th>\n",
       "      <th>L7H657085541</th>\n",
       "      <th>L7H657104991</th>\n",
       "      <th>L7H657131781</th>\n",
       "      <th>L7H657146353</th>\n",
       "      <th>L7H657146356</th>\n",
       "      <th>L7H657147154</th>\n",
       "      <th>L7H657147171</th>\n",
       "      <th>L7H657147173</th>\n",
       "      <th>L7H657156298</th>\n",
       "    </tr>\n",
       "  </thead>\n",
       "  <tbody>\n",
       "    <tr>\n",
       "      <th>0</th>\n",
       "      <td>Commander</td>\n",
       "      <td>1</td>\n",
       "      <td>0</td>\n",
       "      <td>5</td>\n",
       "      <td>4</td>\n",
       "      <td>NaN</td>\n",
       "      <td>1</td>\n",
       "      <td>1</td>\n",
       "      <td>1</td>\n",
       "      <td>1</td>\n",
       "      <td>...</td>\n",
       "      <td>1</td>\n",
       "      <td>1</td>\n",
       "      <td>1</td>\n",
       "      <td>1</td>\n",
       "      <td>1</td>\n",
       "      <td>1</td>\n",
       "      <td>0</td>\n",
       "      <td>1</td>\n",
       "      <td>1</td>\n",
       "      <td>1</td>\n",
       "    </tr>\n",
       "    <tr>\n",
       "      <th>1</th>\n",
       "      <td>Commander</td>\n",
       "      <td>1</td>\n",
       "      <td>0</td>\n",
       "      <td>0</td>\n",
       "      <td>4</td>\n",
       "      <td>NaN</td>\n",
       "      <td>1</td>\n",
       "      <td>1</td>\n",
       "      <td>1</td>\n",
       "      <td>1</td>\n",
       "      <td>...</td>\n",
       "      <td>1</td>\n",
       "      <td>1</td>\n",
       "      <td>1</td>\n",
       "      <td>1</td>\n",
       "      <td>1</td>\n",
       "      <td>1</td>\n",
       "      <td>0</td>\n",
       "      <td>1</td>\n",
       "      <td>1</td>\n",
       "      <td>1</td>\n",
       "    </tr>\n",
       "    <tr>\n",
       "      <th>5</th>\n",
       "      <td>Commander</td>\n",
       "      <td>1</td>\n",
       "      <td>2</td>\n",
       "      <td>3</td>\n",
       "      <td>4</td>\n",
       "      <td>NaN</td>\n",
       "      <td>1</td>\n",
       "      <td>1</td>\n",
       "      <td>1</td>\n",
       "      <td>1</td>\n",
       "      <td>...</td>\n",
       "      <td>1</td>\n",
       "      <td>1</td>\n",
       "      <td>1</td>\n",
       "      <td>1</td>\n",
       "      <td>1</td>\n",
       "      <td>1</td>\n",
       "      <td>0</td>\n",
       "      <td>1</td>\n",
       "      <td>1</td>\n",
       "      <td>1</td>\n",
       "    </tr>\n",
       "    <tr>\n",
       "      <th>6</th>\n",
       "      <td>Commander</td>\n",
       "      <td>1</td>\n",
       "      <td>2</td>\n",
       "      <td>0</td>\n",
       "      <td>4</td>\n",
       "      <td>NaN</td>\n",
       "      <td>1</td>\n",
       "      <td>1</td>\n",
       "      <td>1</td>\n",
       "      <td>1</td>\n",
       "      <td>...</td>\n",
       "      <td>1</td>\n",
       "      <td>1</td>\n",
       "      <td>1</td>\n",
       "      <td>1</td>\n",
       "      <td>1</td>\n",
       "      <td>1</td>\n",
       "      <td>0</td>\n",
       "      <td>1</td>\n",
       "      <td>1</td>\n",
       "      <td>1</td>\n",
       "    </tr>\n",
       "    <tr>\n",
       "      <th>7</th>\n",
       "      <td>Commander</td>\n",
       "      <td>1</td>\n",
       "      <td>1</td>\n",
       "      <td>4</td>\n",
       "      <td>1</td>\n",
       "      <td>2410.546686</td>\n",
       "      <td>1</td>\n",
       "      <td>1</td>\n",
       "      <td>1</td>\n",
       "      <td>1</td>\n",
       "      <td>...</td>\n",
       "      <td>1</td>\n",
       "      <td>1</td>\n",
       "      <td>1</td>\n",
       "      <td>1</td>\n",
       "      <td>1</td>\n",
       "      <td>1</td>\n",
       "      <td>0</td>\n",
       "      <td>1</td>\n",
       "      <td>1</td>\n",
       "      <td>1</td>\n",
       "    </tr>\n",
       "  </tbody>\n",
       "</table>\n",
       "<p>5 rows × 30549 columns</p>\n",
       "</div>"
      ],
      "text/plain": [
       "     Variety  Reason  Year  Study  Location  GrYld(kg/ha)  D1H00051861  \\\n",
       "0  Commander       1     0      5         4           NaN            1   \n",
       "1  Commander       1     0      0         4           NaN            1   \n",
       "5  Commander       1     2      3         4           NaN            1   \n",
       "6  Commander       1     2      0         4           NaN            1   \n",
       "7  Commander       1     1      4         1   2410.546686            1   \n",
       "\n",
       "   D1H000263584  D1H000275564  D1H000277624  ...  L7H657085535  L7H657085541  \\\n",
       "0             1             1             1  ...             1             1   \n",
       "1             1             1             1  ...             1             1   \n",
       "5             1             1             1  ...             1             1   \n",
       "6             1             1             1  ...             1             1   \n",
       "7             1             1             1  ...             1             1   \n",
       "\n",
       "   L7H657104991  L7H657131781  L7H657146353  L7H657146356  L7H657147154  \\\n",
       "0             1             1             1             1             0   \n",
       "1             1             1             1             1             0   \n",
       "5             1             1             1             1             0   \n",
       "6             1             1             1             1             0   \n",
       "7             1             1             1             1             0   \n",
       "\n",
       "   L7H657147171  L7H657147173  L7H657156298  \n",
       "0             1             1             1  \n",
       "1             1             1             1  \n",
       "5             1             1             1  \n",
       "6             1             1             1  \n",
       "7             1             1             1  \n",
       "\n",
       "[5 rows x 30549 columns]"
      ]
     },
     "execution_count": 17,
     "metadata": {},
     "output_type": "execute_result"
    }
   ],
   "source": [
    "dataset.head()"
   ]
  },
  {
   "cell_type": "markdown",
   "id": "93735ac3",
   "metadata": {},
   "source": [
    "### Removing the missing value in prediction variable\n"
   ]
  },
  {
   "cell_type": "code",
   "execution_count": 18,
   "id": "3548a96c",
   "metadata": {},
   "outputs": [],
   "source": [
    "dataset.dropna(subset=['GrYld(kg/ha)'], inplace=True)"
   ]
  },
  {
   "cell_type": "code",
   "execution_count": 19,
   "id": "aeffd569",
   "metadata": {},
   "outputs": [
    {
     "data": {
      "text/plain": [
       "(2617, 30549)"
      ]
     },
     "execution_count": 19,
     "metadata": {},
     "output_type": "execute_result"
    }
   ],
   "source": [
    "dataset.shape"
   ]
  },
  {
   "cell_type": "code",
   "execution_count": 20,
   "id": "07fbb050",
   "metadata": {},
   "outputs": [],
   "source": [
    "dataset.drop(columns=['Variety'], axis=1, inplace=True)"
   ]
  },
  {
   "cell_type": "code",
   "execution_count": 21,
   "id": "f22cff35",
   "metadata": {},
   "outputs": [
    {
     "data": {
      "text/html": [
       "<div>\n",
       "<style scoped>\n",
       "    .dataframe tbody tr th:only-of-type {\n",
       "        vertical-align: middle;\n",
       "    }\n",
       "\n",
       "    .dataframe tbody tr th {\n",
       "        vertical-align: top;\n",
       "    }\n",
       "\n",
       "    .dataframe thead th {\n",
       "        text-align: right;\n",
       "    }\n",
       "</style>\n",
       "<table border=\"1\" class=\"dataframe\">\n",
       "  <thead>\n",
       "    <tr style=\"text-align: right;\">\n",
       "      <th></th>\n",
       "      <th>Reason</th>\n",
       "      <th>Year</th>\n",
       "      <th>Study</th>\n",
       "      <th>Location</th>\n",
       "      <th>GrYld(kg/ha)</th>\n",
       "      <th>D1H00051861</th>\n",
       "      <th>D1H000263584</th>\n",
       "      <th>D1H000275564</th>\n",
       "      <th>D1H000277624</th>\n",
       "      <th>D1H000277628</th>\n",
       "      <th>...</th>\n",
       "      <th>L7H657085535</th>\n",
       "      <th>L7H657085541</th>\n",
       "      <th>L7H657104991</th>\n",
       "      <th>L7H657131781</th>\n",
       "      <th>L7H657146353</th>\n",
       "      <th>L7H657146356</th>\n",
       "      <th>L7H657147154</th>\n",
       "      <th>L7H657147171</th>\n",
       "      <th>L7H657147173</th>\n",
       "      <th>L7H657156298</th>\n",
       "    </tr>\n",
       "  </thead>\n",
       "  <tbody>\n",
       "    <tr>\n",
       "      <th>7</th>\n",
       "      <td>1</td>\n",
       "      <td>1</td>\n",
       "      <td>4</td>\n",
       "      <td>1</td>\n",
       "      <td>2410.546686</td>\n",
       "      <td>1</td>\n",
       "      <td>1</td>\n",
       "      <td>1</td>\n",
       "      <td>1</td>\n",
       "      <td>1</td>\n",
       "      <td>...</td>\n",
       "      <td>1</td>\n",
       "      <td>1</td>\n",
       "      <td>1</td>\n",
       "      <td>1</td>\n",
       "      <td>1</td>\n",
       "      <td>1</td>\n",
       "      <td>0</td>\n",
       "      <td>1</td>\n",
       "      <td>1</td>\n",
       "      <td>1</td>\n",
       "    </tr>\n",
       "    <tr>\n",
       "      <th>8</th>\n",
       "      <td>1</td>\n",
       "      <td>2</td>\n",
       "      <td>4</td>\n",
       "      <td>1</td>\n",
       "      <td>4024.875000</td>\n",
       "      <td>1</td>\n",
       "      <td>1</td>\n",
       "      <td>1</td>\n",
       "      <td>1</td>\n",
       "      <td>1</td>\n",
       "      <td>...</td>\n",
       "      <td>1</td>\n",
       "      <td>1</td>\n",
       "      <td>1</td>\n",
       "      <td>1</td>\n",
       "      <td>1</td>\n",
       "      <td>1</td>\n",
       "      <td>0</td>\n",
       "      <td>1</td>\n",
       "      <td>1</td>\n",
       "      <td>1</td>\n",
       "    </tr>\n",
       "    <tr>\n",
       "      <th>9</th>\n",
       "      <td>1</td>\n",
       "      <td>1</td>\n",
       "      <td>4</td>\n",
       "      <td>2</td>\n",
       "      <td>2360.503472</td>\n",
       "      <td>1</td>\n",
       "      <td>1</td>\n",
       "      <td>1</td>\n",
       "      <td>1</td>\n",
       "      <td>1</td>\n",
       "      <td>...</td>\n",
       "      <td>1</td>\n",
       "      <td>1</td>\n",
       "      <td>1</td>\n",
       "      <td>1</td>\n",
       "      <td>1</td>\n",
       "      <td>1</td>\n",
       "      <td>0</td>\n",
       "      <td>1</td>\n",
       "      <td>1</td>\n",
       "      <td>1</td>\n",
       "    </tr>\n",
       "    <tr>\n",
       "      <th>10</th>\n",
       "      <td>1</td>\n",
       "      <td>2</td>\n",
       "      <td>4</td>\n",
       "      <td>2</td>\n",
       "      <td>3683.541667</td>\n",
       "      <td>1</td>\n",
       "      <td>1</td>\n",
       "      <td>1</td>\n",
       "      <td>1</td>\n",
       "      <td>1</td>\n",
       "      <td>...</td>\n",
       "      <td>1</td>\n",
       "      <td>1</td>\n",
       "      <td>1</td>\n",
       "      <td>1</td>\n",
       "      <td>1</td>\n",
       "      <td>1</td>\n",
       "      <td>0</td>\n",
       "      <td>1</td>\n",
       "      <td>1</td>\n",
       "      <td>1</td>\n",
       "    </tr>\n",
       "    <tr>\n",
       "      <th>11</th>\n",
       "      <td>1</td>\n",
       "      <td>1</td>\n",
       "      <td>4</td>\n",
       "      <td>0</td>\n",
       "      <td>4060.034722</td>\n",
       "      <td>1</td>\n",
       "      <td>1</td>\n",
       "      <td>1</td>\n",
       "      <td>1</td>\n",
       "      <td>1</td>\n",
       "      <td>...</td>\n",
       "      <td>1</td>\n",
       "      <td>1</td>\n",
       "      <td>1</td>\n",
       "      <td>1</td>\n",
       "      <td>1</td>\n",
       "      <td>1</td>\n",
       "      <td>0</td>\n",
       "      <td>1</td>\n",
       "      <td>1</td>\n",
       "      <td>1</td>\n",
       "    </tr>\n",
       "  </tbody>\n",
       "</table>\n",
       "<p>5 rows × 30548 columns</p>\n",
       "</div>"
      ],
      "text/plain": [
       "    Reason  Year  Study  Location  GrYld(kg/ha)  D1H00051861  D1H000263584  \\\n",
       "7        1     1      4         1   2410.546686            1             1   \n",
       "8        1     2      4         1   4024.875000            1             1   \n",
       "9        1     1      4         2   2360.503472            1             1   \n",
       "10       1     2      4         2   3683.541667            1             1   \n",
       "11       1     1      4         0   4060.034722            1             1   \n",
       "\n",
       "    D1H000275564  D1H000277624  D1H000277628  ...  L7H657085535  L7H657085541  \\\n",
       "7              1             1             1  ...             1             1   \n",
       "8              1             1             1  ...             1             1   \n",
       "9              1             1             1  ...             1             1   \n",
       "10             1             1             1  ...             1             1   \n",
       "11             1             1             1  ...             1             1   \n",
       "\n",
       "    L7H657104991  L7H657131781  L7H657146353  L7H657146356  L7H657147154  \\\n",
       "7              1             1             1             1             0   \n",
       "8              1             1             1             1             0   \n",
       "9              1             1             1             1             0   \n",
       "10             1             1             1             1             0   \n",
       "11             1             1             1             1             0   \n",
       "\n",
       "    L7H657147171  L7H657147173  L7H657156298  \n",
       "7              1             1             1  \n",
       "8              1             1             1  \n",
       "9              1             1             1  \n",
       "10             1             1             1  \n",
       "11             1             1             1  \n",
       "\n",
       "[5 rows x 30548 columns]"
      ]
     },
     "execution_count": 21,
     "metadata": {},
     "output_type": "execute_result"
    }
   ],
   "source": [
    "dataset.head()"
   ]
  },
  {
   "cell_type": "markdown",
   "id": "44c29187",
   "metadata": {},
   "source": [
    "## Applying RandomForest"
   ]
  },
  {
   "cell_type": "code",
   "execution_count": 22,
   "id": "f4032886",
   "metadata": {},
   "outputs": [],
   "source": [
    "from sklearn.model_selection import train_test_split\n",
    "\n",
    "X= dataset.drop(columns=['GrYld(kg/ha)'], axis=1)\n",
    "y = dataset['GrYld(kg/ha)']\n",
    "\n",
    "X_train, X_test, y_train, y_test =train_test_split(X, y, test_size=0.2, random_state=42)"
   ]
  },
  {
   "cell_type": "code",
   "execution_count": 23,
   "id": "050d8599",
   "metadata": {},
   "outputs": [
    {
     "data": {
      "text/html": [
       "<style>#sk-container-id-1 {\n",
       "  /* Definition of color scheme common for light and dark mode */\n",
       "  --sklearn-color-text: black;\n",
       "  --sklearn-color-line: gray;\n",
       "  /* Definition of color scheme for unfitted estimators */\n",
       "  --sklearn-color-unfitted-level-0: #fff5e6;\n",
       "  --sklearn-color-unfitted-level-1: #f6e4d2;\n",
       "  --sklearn-color-unfitted-level-2: #ffe0b3;\n",
       "  --sklearn-color-unfitted-level-3: chocolate;\n",
       "  /* Definition of color scheme for fitted estimators */\n",
       "  --sklearn-color-fitted-level-0: #f0f8ff;\n",
       "  --sklearn-color-fitted-level-1: #d4ebff;\n",
       "  --sklearn-color-fitted-level-2: #b3dbfd;\n",
       "  --sklearn-color-fitted-level-3: cornflowerblue;\n",
       "\n",
       "  /* Specific color for light theme */\n",
       "  --sklearn-color-text-on-default-background: var(--sg-text-color, var(--theme-code-foreground, var(--jp-content-font-color1, black)));\n",
       "  --sklearn-color-background: var(--sg-background-color, var(--theme-background, var(--jp-layout-color0, white)));\n",
       "  --sklearn-color-border-box: var(--sg-text-color, var(--theme-code-foreground, var(--jp-content-font-color1, black)));\n",
       "  --sklearn-color-icon: #696969;\n",
       "\n",
       "  @media (prefers-color-scheme: dark) {\n",
       "    /* Redefinition of color scheme for dark theme */\n",
       "    --sklearn-color-text-on-default-background: var(--sg-text-color, var(--theme-code-foreground, var(--jp-content-font-color1, white)));\n",
       "    --sklearn-color-background: var(--sg-background-color, var(--theme-background, var(--jp-layout-color0, #111)));\n",
       "    --sklearn-color-border-box: var(--sg-text-color, var(--theme-code-foreground, var(--jp-content-font-color1, white)));\n",
       "    --sklearn-color-icon: #878787;\n",
       "  }\n",
       "}\n",
       "\n",
       "#sk-container-id-1 {\n",
       "  color: var(--sklearn-color-text);\n",
       "}\n",
       "\n",
       "#sk-container-id-1 pre {\n",
       "  padding: 0;\n",
       "}\n",
       "\n",
       "#sk-container-id-1 input.sk-hidden--visually {\n",
       "  border: 0;\n",
       "  clip: rect(1px 1px 1px 1px);\n",
       "  clip: rect(1px, 1px, 1px, 1px);\n",
       "  height: 1px;\n",
       "  margin: -1px;\n",
       "  overflow: hidden;\n",
       "  padding: 0;\n",
       "  position: absolute;\n",
       "  width: 1px;\n",
       "}\n",
       "\n",
       "#sk-container-id-1 div.sk-dashed-wrapped {\n",
       "  border: 1px dashed var(--sklearn-color-line);\n",
       "  margin: 0 0.4em 0.5em 0.4em;\n",
       "  box-sizing: border-box;\n",
       "  padding-bottom: 0.4em;\n",
       "  background-color: var(--sklearn-color-background);\n",
       "}\n",
       "\n",
       "#sk-container-id-1 div.sk-container {\n",
       "  /* jupyter's `normalize.less` sets `[hidden] { display: none; }`\n",
       "     but bootstrap.min.css set `[hidden] { display: none !important; }`\n",
       "     so we also need the `!important` here to be able to override the\n",
       "     default hidden behavior on the sphinx rendered scikit-learn.org.\n",
       "     See: https://github.com/scikit-learn/scikit-learn/issues/21755 */\n",
       "  display: inline-block !important;\n",
       "  position: relative;\n",
       "}\n",
       "\n",
       "#sk-container-id-1 div.sk-text-repr-fallback {\n",
       "  display: none;\n",
       "}\n",
       "\n",
       "div.sk-parallel-item,\n",
       "div.sk-serial,\n",
       "div.sk-item {\n",
       "  /* draw centered vertical line to link estimators */\n",
       "  background-image: linear-gradient(var(--sklearn-color-text-on-default-background), var(--sklearn-color-text-on-default-background));\n",
       "  background-size: 2px 100%;\n",
       "  background-repeat: no-repeat;\n",
       "  background-position: center center;\n",
       "}\n",
       "\n",
       "/* Parallel-specific style estimator block */\n",
       "\n",
       "#sk-container-id-1 div.sk-parallel-item::after {\n",
       "  content: \"\";\n",
       "  width: 100%;\n",
       "  border-bottom: 2px solid var(--sklearn-color-text-on-default-background);\n",
       "  flex-grow: 1;\n",
       "}\n",
       "\n",
       "#sk-container-id-1 div.sk-parallel {\n",
       "  display: flex;\n",
       "  align-items: stretch;\n",
       "  justify-content: center;\n",
       "  background-color: var(--sklearn-color-background);\n",
       "  position: relative;\n",
       "}\n",
       "\n",
       "#sk-container-id-1 div.sk-parallel-item {\n",
       "  display: flex;\n",
       "  flex-direction: column;\n",
       "}\n",
       "\n",
       "#sk-container-id-1 div.sk-parallel-item:first-child::after {\n",
       "  align-self: flex-end;\n",
       "  width: 50%;\n",
       "}\n",
       "\n",
       "#sk-container-id-1 div.sk-parallel-item:last-child::after {\n",
       "  align-self: flex-start;\n",
       "  width: 50%;\n",
       "}\n",
       "\n",
       "#sk-container-id-1 div.sk-parallel-item:only-child::after {\n",
       "  width: 0;\n",
       "}\n",
       "\n",
       "/* Serial-specific style estimator block */\n",
       "\n",
       "#sk-container-id-1 div.sk-serial {\n",
       "  display: flex;\n",
       "  flex-direction: column;\n",
       "  align-items: center;\n",
       "  background-color: var(--sklearn-color-background);\n",
       "  padding-right: 1em;\n",
       "  padding-left: 1em;\n",
       "}\n",
       "\n",
       "\n",
       "/* Toggleable style: style used for estimator/Pipeline/ColumnTransformer box that is\n",
       "clickable and can be expanded/collapsed.\n",
       "- Pipeline and ColumnTransformer use this feature and define the default style\n",
       "- Estimators will overwrite some part of the style using the `sk-estimator` class\n",
       "*/\n",
       "\n",
       "/* Pipeline and ColumnTransformer style (default) */\n",
       "\n",
       "#sk-container-id-1 div.sk-toggleable {\n",
       "  /* Default theme specific background. It is overwritten whether we have a\n",
       "  specific estimator or a Pipeline/ColumnTransformer */\n",
       "  background-color: var(--sklearn-color-background);\n",
       "}\n",
       "\n",
       "/* Toggleable label */\n",
       "#sk-container-id-1 label.sk-toggleable__label {\n",
       "  cursor: pointer;\n",
       "  display: block;\n",
       "  width: 100%;\n",
       "  margin-bottom: 0;\n",
       "  padding: 0.5em;\n",
       "  box-sizing: border-box;\n",
       "  text-align: center;\n",
       "}\n",
       "\n",
       "#sk-container-id-1 label.sk-toggleable__label-arrow:before {\n",
       "  /* Arrow on the left of the label */\n",
       "  content: \"▸\";\n",
       "  float: left;\n",
       "  margin-right: 0.25em;\n",
       "  color: var(--sklearn-color-icon);\n",
       "}\n",
       "\n",
       "#sk-container-id-1 label.sk-toggleable__label-arrow:hover:before {\n",
       "  color: var(--sklearn-color-text);\n",
       "}\n",
       "\n",
       "/* Toggleable content - dropdown */\n",
       "\n",
       "#sk-container-id-1 div.sk-toggleable__content {\n",
       "  max-height: 0;\n",
       "  max-width: 0;\n",
       "  overflow: hidden;\n",
       "  text-align: left;\n",
       "  /* unfitted */\n",
       "  background-color: var(--sklearn-color-unfitted-level-0);\n",
       "}\n",
       "\n",
       "#sk-container-id-1 div.sk-toggleable__content.fitted {\n",
       "  /* fitted */\n",
       "  background-color: var(--sklearn-color-fitted-level-0);\n",
       "}\n",
       "\n",
       "#sk-container-id-1 div.sk-toggleable__content pre {\n",
       "  margin: 0.2em;\n",
       "  border-radius: 0.25em;\n",
       "  color: var(--sklearn-color-text);\n",
       "  /* unfitted */\n",
       "  background-color: var(--sklearn-color-unfitted-level-0);\n",
       "}\n",
       "\n",
       "#sk-container-id-1 div.sk-toggleable__content.fitted pre {\n",
       "  /* unfitted */\n",
       "  background-color: var(--sklearn-color-fitted-level-0);\n",
       "}\n",
       "\n",
       "#sk-container-id-1 input.sk-toggleable__control:checked~div.sk-toggleable__content {\n",
       "  /* Expand drop-down */\n",
       "  max-height: 200px;\n",
       "  max-width: 100%;\n",
       "  overflow: auto;\n",
       "}\n",
       "\n",
       "#sk-container-id-1 input.sk-toggleable__control:checked~label.sk-toggleable__label-arrow:before {\n",
       "  content: \"▾\";\n",
       "}\n",
       "\n",
       "/* Pipeline/ColumnTransformer-specific style */\n",
       "\n",
       "#sk-container-id-1 div.sk-label input.sk-toggleable__control:checked~label.sk-toggleable__label {\n",
       "  color: var(--sklearn-color-text);\n",
       "  background-color: var(--sklearn-color-unfitted-level-2);\n",
       "}\n",
       "\n",
       "#sk-container-id-1 div.sk-label.fitted input.sk-toggleable__control:checked~label.sk-toggleable__label {\n",
       "  background-color: var(--sklearn-color-fitted-level-2);\n",
       "}\n",
       "\n",
       "/* Estimator-specific style */\n",
       "\n",
       "/* Colorize estimator box */\n",
       "#sk-container-id-1 div.sk-estimator input.sk-toggleable__control:checked~label.sk-toggleable__label {\n",
       "  /* unfitted */\n",
       "  background-color: var(--sklearn-color-unfitted-level-2);\n",
       "}\n",
       "\n",
       "#sk-container-id-1 div.sk-estimator.fitted input.sk-toggleable__control:checked~label.sk-toggleable__label {\n",
       "  /* fitted */\n",
       "  background-color: var(--sklearn-color-fitted-level-2);\n",
       "}\n",
       "\n",
       "#sk-container-id-1 div.sk-label label.sk-toggleable__label,\n",
       "#sk-container-id-1 div.sk-label label {\n",
       "  /* The background is the default theme color */\n",
       "  color: var(--sklearn-color-text-on-default-background);\n",
       "}\n",
       "\n",
       "/* On hover, darken the color of the background */\n",
       "#sk-container-id-1 div.sk-label:hover label.sk-toggleable__label {\n",
       "  color: var(--sklearn-color-text);\n",
       "  background-color: var(--sklearn-color-unfitted-level-2);\n",
       "}\n",
       "\n",
       "/* Label box, darken color on hover, fitted */\n",
       "#sk-container-id-1 div.sk-label.fitted:hover label.sk-toggleable__label.fitted {\n",
       "  color: var(--sklearn-color-text);\n",
       "  background-color: var(--sklearn-color-fitted-level-2);\n",
       "}\n",
       "\n",
       "/* Estimator label */\n",
       "\n",
       "#sk-container-id-1 div.sk-label label {\n",
       "  font-family: monospace;\n",
       "  font-weight: bold;\n",
       "  display: inline-block;\n",
       "  line-height: 1.2em;\n",
       "}\n",
       "\n",
       "#sk-container-id-1 div.sk-label-container {\n",
       "  text-align: center;\n",
       "}\n",
       "\n",
       "/* Estimator-specific */\n",
       "#sk-container-id-1 div.sk-estimator {\n",
       "  font-family: monospace;\n",
       "  border: 1px dotted var(--sklearn-color-border-box);\n",
       "  border-radius: 0.25em;\n",
       "  box-sizing: border-box;\n",
       "  margin-bottom: 0.5em;\n",
       "  /* unfitted */\n",
       "  background-color: var(--sklearn-color-unfitted-level-0);\n",
       "}\n",
       "\n",
       "#sk-container-id-1 div.sk-estimator.fitted {\n",
       "  /* fitted */\n",
       "  background-color: var(--sklearn-color-fitted-level-0);\n",
       "}\n",
       "\n",
       "/* on hover */\n",
       "#sk-container-id-1 div.sk-estimator:hover {\n",
       "  /* unfitted */\n",
       "  background-color: var(--sklearn-color-unfitted-level-2);\n",
       "}\n",
       "\n",
       "#sk-container-id-1 div.sk-estimator.fitted:hover {\n",
       "  /* fitted */\n",
       "  background-color: var(--sklearn-color-fitted-level-2);\n",
       "}\n",
       "\n",
       "/* Specification for estimator info (e.g. \"i\" and \"?\") */\n",
       "\n",
       "/* Common style for \"i\" and \"?\" */\n",
       "\n",
       ".sk-estimator-doc-link,\n",
       "a:link.sk-estimator-doc-link,\n",
       "a:visited.sk-estimator-doc-link {\n",
       "  float: right;\n",
       "  font-size: smaller;\n",
       "  line-height: 1em;\n",
       "  font-family: monospace;\n",
       "  background-color: var(--sklearn-color-background);\n",
       "  border-radius: 1em;\n",
       "  height: 1em;\n",
       "  width: 1em;\n",
       "  text-decoration: none !important;\n",
       "  margin-left: 1ex;\n",
       "  /* unfitted */\n",
       "  border: var(--sklearn-color-unfitted-level-1) 1pt solid;\n",
       "  color: var(--sklearn-color-unfitted-level-1);\n",
       "}\n",
       "\n",
       ".sk-estimator-doc-link.fitted,\n",
       "a:link.sk-estimator-doc-link.fitted,\n",
       "a:visited.sk-estimator-doc-link.fitted {\n",
       "  /* fitted */\n",
       "  border: var(--sklearn-color-fitted-level-1) 1pt solid;\n",
       "  color: var(--sklearn-color-fitted-level-1);\n",
       "}\n",
       "\n",
       "/* On hover */\n",
       "div.sk-estimator:hover .sk-estimator-doc-link:hover,\n",
       ".sk-estimator-doc-link:hover,\n",
       "div.sk-label-container:hover .sk-estimator-doc-link:hover,\n",
       ".sk-estimator-doc-link:hover {\n",
       "  /* unfitted */\n",
       "  background-color: var(--sklearn-color-unfitted-level-3);\n",
       "  color: var(--sklearn-color-background);\n",
       "  text-decoration: none;\n",
       "}\n",
       "\n",
       "div.sk-estimator.fitted:hover .sk-estimator-doc-link.fitted:hover,\n",
       ".sk-estimator-doc-link.fitted:hover,\n",
       "div.sk-label-container:hover .sk-estimator-doc-link.fitted:hover,\n",
       ".sk-estimator-doc-link.fitted:hover {\n",
       "  /* fitted */\n",
       "  background-color: var(--sklearn-color-fitted-level-3);\n",
       "  color: var(--sklearn-color-background);\n",
       "  text-decoration: none;\n",
       "}\n",
       "\n",
       "/* Span, style for the box shown on hovering the info icon */\n",
       ".sk-estimator-doc-link span {\n",
       "  display: none;\n",
       "  z-index: 9999;\n",
       "  position: relative;\n",
       "  font-weight: normal;\n",
       "  right: .2ex;\n",
       "  padding: .5ex;\n",
       "  margin: .5ex;\n",
       "  width: min-content;\n",
       "  min-width: 20ex;\n",
       "  max-width: 50ex;\n",
       "  color: var(--sklearn-color-text);\n",
       "  box-shadow: 2pt 2pt 4pt #999;\n",
       "  /* unfitted */\n",
       "  background: var(--sklearn-color-unfitted-level-0);\n",
       "  border: .5pt solid var(--sklearn-color-unfitted-level-3);\n",
       "}\n",
       "\n",
       ".sk-estimator-doc-link.fitted span {\n",
       "  /* fitted */\n",
       "  background: var(--sklearn-color-fitted-level-0);\n",
       "  border: var(--sklearn-color-fitted-level-3);\n",
       "}\n",
       "\n",
       ".sk-estimator-doc-link:hover span {\n",
       "  display: block;\n",
       "}\n",
       "\n",
       "/* \"?\"-specific style due to the `<a>` HTML tag */\n",
       "\n",
       "#sk-container-id-1 a.estimator_doc_link {\n",
       "  float: right;\n",
       "  font-size: 1rem;\n",
       "  line-height: 1em;\n",
       "  font-family: monospace;\n",
       "  background-color: var(--sklearn-color-background);\n",
       "  border-radius: 1rem;\n",
       "  height: 1rem;\n",
       "  width: 1rem;\n",
       "  text-decoration: none;\n",
       "  /* unfitted */\n",
       "  color: var(--sklearn-color-unfitted-level-1);\n",
       "  border: var(--sklearn-color-unfitted-level-1) 1pt solid;\n",
       "}\n",
       "\n",
       "#sk-container-id-1 a.estimator_doc_link.fitted {\n",
       "  /* fitted */\n",
       "  border: var(--sklearn-color-fitted-level-1) 1pt solid;\n",
       "  color: var(--sklearn-color-fitted-level-1);\n",
       "}\n",
       "\n",
       "/* On hover */\n",
       "#sk-container-id-1 a.estimator_doc_link:hover {\n",
       "  /* unfitted */\n",
       "  background-color: var(--sklearn-color-unfitted-level-3);\n",
       "  color: var(--sklearn-color-background);\n",
       "  text-decoration: none;\n",
       "}\n",
       "\n",
       "#sk-container-id-1 a.estimator_doc_link.fitted:hover {\n",
       "  /* fitted */\n",
       "  background-color: var(--sklearn-color-fitted-level-3);\n",
       "}\n",
       "</style><div id=\"sk-container-id-1\" class=\"sk-top-container\"><div class=\"sk-text-repr-fallback\"><pre>RandomForestRegressor(random_state=42)</pre><b>In a Jupyter environment, please rerun this cell to show the HTML representation or trust the notebook. <br />On GitHub, the HTML representation is unable to render, please try loading this page with nbviewer.org.</b></div><div class=\"sk-container\" hidden><div class=\"sk-item\"><div class=\"sk-estimator fitted sk-toggleable\"><input class=\"sk-toggleable__control sk-hidden--visually\" id=\"sk-estimator-id-1\" type=\"checkbox\" checked><label for=\"sk-estimator-id-1\" class=\"sk-toggleable__label fitted sk-toggleable__label-arrow fitted\">&nbsp;&nbsp;RandomForestRegressor<a class=\"sk-estimator-doc-link fitted\" rel=\"noreferrer\" target=\"_blank\" href=\"https://scikit-learn.org/1.5/modules/generated/sklearn.ensemble.RandomForestRegressor.html\">?<span>Documentation for RandomForestRegressor</span></a><span class=\"sk-estimator-doc-link fitted\">i<span>Fitted</span></span></label><div class=\"sk-toggleable__content fitted\"><pre>RandomForestRegressor(random_state=42)</pre></div> </div></div></div></div>"
      ],
      "text/plain": [
       "RandomForestRegressor(random_state=42)"
      ]
     },
     "execution_count": 23,
     "metadata": {},
     "output_type": "execute_result"
    }
   ],
   "source": [
    "from sklearn.ensemble import RandomForestRegressor\n",
    "\n",
    "rf = RandomForestRegressor(random_state=42)\n",
    "rf.fit(X_train,y_train)"
   ]
  },
  {
   "cell_type": "code",
   "execution_count": 24,
   "id": "3e3dbdca",
   "metadata": {},
   "outputs": [],
   "source": [
    "y_predict_test=rf.predict(X_test)\n",
    "y_predict_train =rf.predict(X_train)"
   ]
  },
  {
   "cell_type": "code",
   "execution_count": 25,
   "id": "dcb2d4a9",
   "metadata": {},
   "outputs": [
    {
     "name": "stdout",
     "output_type": "stream",
     "text": [
      "Mean Squared Error test: 556522.0245613117\n",
      "Mean Absolute Error test: 576.9156958839347\n",
      "RMSE 746.0040378987983\n",
      "R-squared test: 0.534899369138991\n"
     ]
    }
   ],
   "source": [
    "from sklearn.metrics import mean_squared_error, r2_score, mean_absolute_error\n",
    "import numpy as np\n",
    "\n",
    "mse_test = mean_squared_error(y_test, y_predict_test)\n",
    "mae_test = mean_absolute_error(y_test, y_predict_test)\n",
    "r_squared_test = r2_score(y_test, y_predict_test)\n",
    "\n",
    "print(\"Mean Squared Error test:\", mse_test)\n",
    "print(\"Mean Absolute Error test:\", mae_test)\n",
    "print(\"RMSE\", np.sqrt(mse_test))\n",
    "print(\"R-squared test:\", r_squared_test)"
   ]
  },
  {
   "cell_type": "code",
   "execution_count": 26,
   "id": "ccd92972",
   "metadata": {},
   "outputs": [
    {
     "name": "stdout",
     "output_type": "stream",
     "text": [
      "Mean Squared Error train: 80371.2523150664\n",
      "Mean Absolute Error train: 215.19577756330563\n",
      "RMSE 283.4982404091186\n",
      "R-squared train: 0.9356159413231548\n"
     ]
    }
   ],
   "source": [
    "from sklearn.metrics import mean_squared_error, r2_score, mean_absolute_error\n",
    "\n",
    "mse_train = mean_squared_error(y_train, y_predict_train)\n",
    "mae_train = mean_absolute_error(y_train, y_predict_train)\n",
    "r_squared_train = r2_score(y_train, y_predict_train)\n",
    "\n",
    "print(\"Mean Squared Error train:\", mse_train)\n",
    "print(\"Mean Absolute Error train:\", mae_train)\n",
    "print(\"RMSE\", np.sqrt(mse_train))\n",
    "print(\"R-squared train:\", r_squared_train)"
   ]
  },
  {
   "cell_type": "code",
   "execution_count": 27,
   "id": "b1cd61ed",
   "metadata": {},
   "outputs": [
    {
     "data": {
      "text/plain": [
       "{'bootstrap': True,\n",
       " 'ccp_alpha': 0.0,\n",
       " 'criterion': 'squared_error',\n",
       " 'max_depth': None,\n",
       " 'max_features': 1.0,\n",
       " 'max_leaf_nodes': None,\n",
       " 'max_samples': None,\n",
       " 'min_impurity_decrease': 0.0,\n",
       " 'min_samples_leaf': 1,\n",
       " 'min_samples_split': 2,\n",
       " 'min_weight_fraction_leaf': 0.0,\n",
       " 'monotonic_cst': None,\n",
       " 'n_estimators': 100,\n",
       " 'n_jobs': None,\n",
       " 'oob_score': False,\n",
       " 'random_state': 42,\n",
       " 'verbose': 0,\n",
       " 'warm_start': False}"
      ]
     },
     "execution_count": 27,
     "metadata": {},
     "output_type": "execute_result"
    }
   ],
   "source": [
    "rf.get_params()"
   ]
  },
  {
   "cell_type": "code",
   "execution_count": 28,
   "id": "86383a87",
   "metadata": {},
   "outputs": [
    {
     "name": "stderr",
     "output_type": "stream",
     "text": [
      "c:\\Users\\34647859\\AppData\\Local\\Programs\\Python\\Python310\\lib\\site-packages\\tqdm\\auto.py:21: TqdmWarning: IProgress not found. Please update jupyter and ipywidgets. See https://ipywidgets.readthedocs.io/en/stable/user_install.html\n",
      "  from .autonotebook import tqdm as notebook_tqdm\n",
      "[I 2024-09-10 16:40:01,803] A new study created in memory with name: no-name-4efc0340-0e47-4feb-9030-8f9dd4498c12\n",
      "Best trial: 9. Best value: -951314:   2%|▏         | 1/50 [01:33<1:16:45, 93.99s/it]"
     ]
    },
    {
     "name": "stdout",
     "output_type": "stream",
     "text": [
      "[I 2024-09-10 16:41:35,792] Trial 9 finished with value: -951313.6499923904 and parameters: {'n_estimators': 69, 'max_depth': 1.5969968879828715, 'min_samples_split': 31, 'min_samples_leaf': 17}. Best is trial 9 with value: -951313.6499923904.\n"
     ]
    },
    {
     "name": "stderr",
     "output_type": "stream",
     "text": [
      "Best trial: 9. Best value: -951314:   4%|▍         | 2/50 [06:29<2:49:48, 212.25s/it]"
     ]
    },
    {
     "name": "stdout",
     "output_type": "stream",
     "text": [
      "[I 2024-09-10 16:46:30,829] Trial 7 finished with value: -951321.752790507 and parameters: {'n_estimators': 360, 'max_depth': 1.2959955927131992, 'min_samples_split': 4, 'min_samples_leaf': 9}. Best is trial 9 with value: -951313.6499923904.\n"
     ]
    },
    {
     "name": "stderr",
     "output_type": "stream",
     "text": [
      "Best trial: 9. Best value: -951314:   6%|▌         | 3/50 [17:08<5:19:06, 407.36s/it]"
     ]
    },
    {
     "name": "stdout",
     "output_type": "stream",
     "text": [
      "[I 2024-09-10 16:57:10,372] Trial 8 finished with value: -951576.3847174752 and parameters: {'n_estimators': 970, 'max_depth': 1.8208396041641601, 'min_samples_split': 10, 'min_samples_leaf': 20}. Best is trial 9 with value: -951313.6499923904.\n"
     ]
    },
    {
     "name": "stderr",
     "output_type": "stream",
     "text": [
      "Best trial: 5. Best value: -645585:   8%|▊         | 4/50 [17:38<3:18:03, 258.35s/it]"
     ]
    },
    {
     "name": "stdout",
     "output_type": "stream",
     "text": [
      "[I 2024-09-10 16:57:40,278] Trial 5 finished with value: -645584.8216718271 and parameters: {'n_estimators': 110, 'max_depth': 27.45754709772847, 'min_samples_split': 13, 'min_samples_leaf': 22}. Best is trial 5 with value: -645584.8216718271.\n"
     ]
    },
    {
     "name": "stderr",
     "output_type": "stream",
     "text": [
      "Best trial: 5. Best value: -645585:  10%|█         | 5/50 [21:00<2:58:37, 238.16s/it]"
     ]
    },
    {
     "name": "stdout",
     "output_type": "stream",
     "text": [
      "[I 2024-09-10 17:01:02,651] Trial 6 finished with value: -675663.1985200922 and parameters: {'n_estimators': 229, 'max_depth': 4.5307594935183975, 'min_samples_split': 13, 'min_samples_leaf': 26}. Best is trial 5 with value: -645584.8216718271.\n"
     ]
    },
    {
     "name": "stderr",
     "output_type": "stream",
     "text": [
      "Best trial: 5. Best value: -645585:  12%|█▏        | 6/50 [39:10<6:27:00, 527.74s/it]"
     ]
    },
    {
     "name": "stdout",
     "output_type": "stream",
     "text": [
      "[I 2024-09-10 17:19:12,517] Trial 10 finished with value: -710901.8316743291 and parameters: {'n_estimators': 639, 'max_depth': 3.7016588410787934, 'min_samples_split': 18, 'min_samples_leaf': 32}. Best is trial 5 with value: -645584.8216718271.\n"
     ]
    },
    {
     "name": "stderr",
     "output_type": "stream",
     "text": [
      "Best trial: 5. Best value: -645585:  14%|█▍        | 7/50 [41:28<4:46:56, 400.39s/it]"
     ]
    },
    {
     "name": "stdout",
     "output_type": "stream",
     "text": [
      "[I 2024-09-10 17:21:30,715] Trial 13 finished with value: -650010.5268385494 and parameters: {'n_estimators': 292, 'max_depth': 54.56489227861105, 'min_samples_split': 14, 'min_samples_leaf': 26}. Best is trial 5 with value: -645584.8216718271.\n"
     ]
    },
    {
     "name": "stderr",
     "output_type": "stream",
     "text": [
      "Best trial: 16. Best value: -642077:  16%|█▌        | 8/50 [46:17<4:15:14, 364.64s/it]"
     ]
    },
    {
     "name": "stdout",
     "output_type": "stream",
     "text": [
      "[I 2024-09-10 17:26:18,805] Trial 16 finished with value: -642076.8881000099 and parameters: {'n_estimators': 282, 'max_depth': 8.363542635652381, 'min_samples_split': 28, 'min_samples_leaf': 19}. Best is trial 16 with value: -642076.8881000099.\n"
     ]
    },
    {
     "name": "stderr",
     "output_type": "stream",
     "text": [
      "Best trial: 16. Best value: -642077:  18%|█▊        | 9/50 [50:14<3:41:59, 324.86s/it]"
     ]
    },
    {
     "name": "stdout",
     "output_type": "stream",
     "text": [
      "[I 2024-09-10 17:30:16,180] Trial 4 finished with value: -644235.5027310122 and parameters: {'n_estimators': 334, 'max_depth': 56.9417476067991, 'min_samples_split': 12, 'min_samples_leaf': 22}. Best is trial 16 with value: -642076.8881000099.\n"
     ]
    },
    {
     "name": "stderr",
     "output_type": "stream",
     "text": [
      "Best trial: 16. Best value: -642077:  20%|██        | 10/50 [56:17<3:44:26, 336.65s/it]"
     ]
    },
    {
     "name": "stdout",
     "output_type": "stream",
     "text": [
      "[I 2024-09-10 17:36:19,246] Trial 21 finished with value: -827216.6759069883 and parameters: {'n_estimators': 488, 'max_depth': 2.5874013312229427, 'min_samples_split': 15, 'min_samples_leaf': 14}. Best is trial 16 with value: -642076.8881000099.\n"
     ]
    },
    {
     "name": "stderr",
     "output_type": "stream",
     "text": [
      "Best trial: 16. Best value: -642077:  22%|██▏       | 11/50 [56:32<2:34:45, 238.09s/it]"
     ]
    },
    {
     "name": "stdout",
     "output_type": "stream",
     "text": [
      "[I 2024-09-10 17:36:33,823] Trial 12 finished with value: -676080.7554068896 and parameters: {'n_estimators': 638, 'max_depth': 4.95108998513085, 'min_samples_split': 26, 'min_samples_leaf': 3}. Best is trial 16 with value: -642076.8881000099.\n"
     ]
    },
    {
     "name": "stderr",
     "output_type": "stream",
     "text": [
      "Best trial: 16. Best value: -642077:  24%|██▍       | 12/50 [59:07<2:14:48, 212.87s/it]"
     ]
    },
    {
     "name": "stdout",
     "output_type": "stream",
     "text": [
      "[I 2024-09-10 17:39:09,032] Trial 23 finished with value: -951569.534848726 and parameters: {'n_estimators': 791, 'max_depth': 1.4673489823632744, 'min_samples_split': 27, 'min_samples_leaf': 11}. Best is trial 16 with value: -642076.8881000099.\n"
     ]
    },
    {
     "name": "stderr",
     "output_type": "stream",
     "text": [
      "Best trial: 16. Best value: -642077:  26%|██▌       | 13/50 [59:26<1:35:03, 154.16s/it]"
     ]
    },
    {
     "name": "stdout",
     "output_type": "stream",
     "text": [
      "[I 2024-09-10 17:39:28,093] Trial 1 finished with value: -647256.8535665477 and parameters: {'n_estimators': 416, 'max_depth': 21.705330039689816, 'min_samples_split': 11, 'min_samples_leaf': 25}. Best is trial 16 with value: -642076.8881000099.\n"
     ]
    },
    {
     "name": "stderr",
     "output_type": "stream",
     "text": [
      "Best trial: 16. Best value: -642077:  28%|██▊       | 14/50 [1:09:02<2:48:57, 281.59s/it]"
     ]
    },
    {
     "name": "stdout",
     "output_type": "stream",
     "text": [
      "[I 2024-09-10 17:49:04,162] Trial 17 finished with value: -655577.6704229376 and parameters: {'n_estimators': 520, 'max_depth': 38.25393574463998, 'min_samples_split': 10, 'min_samples_leaf': 32}. Best is trial 16 with value: -642076.8881000099.\n"
     ]
    },
    {
     "name": "stderr",
     "output_type": "stream",
     "text": [
      "Best trial: 16. Best value: -642077:  30%|███       | 15/50 [1:23:29<4:27:08, 457.96s/it]"
     ]
    },
    {
     "name": "stdout",
     "output_type": "stream",
     "text": [
      "[I 2024-09-10 18:03:30,838] Trial 15 finished with value: -654058.4126478896 and parameters: {'n_estimators': 665, 'max_depth': 30.448469189346895, 'min_samples_split': 9, 'min_samples_leaf': 31}. Best is trial 16 with value: -642076.8881000099.\n"
     ]
    },
    {
     "name": "stderr",
     "output_type": "stream",
     "text": [
      "Best trial: 16. Best value: -642077:  32%|███▏      | 16/50 [1:32:03<4:29:11, 475.03s/it]"
     ]
    },
    {
     "name": "stdout",
     "output_type": "stream",
     "text": [
      "[I 2024-09-10 18:12:05,524] Trial 3 finished with value: -653138.4840660488 and parameters: {'n_estimators': 736, 'max_depth': 161.26469928002473, 'min_samples_split': 6, 'min_samples_leaf': 30}. Best is trial 16 with value: -642076.8881000099.\n"
     ]
    },
    {
     "name": "stderr",
     "output_type": "stream",
     "text": [
      "Best trial: 28. Best value: -640453:  34%|███▍      | 17/50 [1:34:52<3:30:34, 382.86s/it]"
     ]
    },
    {
     "name": "stdout",
     "output_type": "stream",
     "text": [
      "[I 2024-09-10 18:14:54,024] Trial 28 finished with value: -640453.4810567225 and parameters: {'n_estimators': 223, 'max_depth': 169.726865586826, 'min_samples_split': 20, 'min_samples_leaf': 19}. Best is trial 28 with value: -640453.4810567225.\n"
     ]
    },
    {
     "name": "stderr",
     "output_type": "stream",
     "text": [
      "Best trial: 28. Best value: -640453:  36%|███▌      | 18/50 [1:37:58<2:52:44, 323.90s/it]"
     ]
    },
    {
     "name": "stdout",
     "output_type": "stream",
     "text": [
      "[I 2024-09-10 18:18:00,671] Trial 0 finished with value: -652527.3269418152 and parameters: {'n_estimators': 784, 'max_depth': 7.017319293995705, 'min_samples_split': 5, 'min_samples_leaf': 29}. Best is trial 28 with value: -640453.4810567225.\n"
     ]
    },
    {
     "name": "stderr",
     "output_type": "stream",
     "text": [
      "Best trial: 28. Best value: -640453:  38%|███▊      | 19/50 [1:38:27<2:01:35, 235.34s/it]"
     ]
    },
    {
     "name": "stdout",
     "output_type": "stream",
     "text": [
      "[I 2024-09-10 18:18:29,717] Trial 18 finished with value: -645646.4265032414 and parameters: {'n_estimators': 527, 'max_depth': 6.588703404902227, 'min_samples_split': 11, 'min_samples_leaf': 6}. Best is trial 28 with value: -640453.4810567225.\n"
     ]
    },
    {
     "name": "stderr",
     "output_type": "stream",
     "text": [
      "Best trial: 29. Best value: -639165:  40%|████      | 20/50 [1:40:47<1:43:17, 206.57s/it]"
     ]
    },
    {
     "name": "stdout",
     "output_type": "stream",
     "text": [
      "[I 2024-09-10 18:20:49,228] Trial 29 finished with value: -639164.6487066433 and parameters: {'n_estimators': 187, 'max_depth': 178.74612558802156, 'min_samples_split': 19, 'min_samples_leaf': 17}. Best is trial 29 with value: -639164.6487066433.\n"
     ]
    },
    {
     "name": "stderr",
     "output_type": "stream",
     "text": [
      "Best trial: 29. Best value: -639165:  42%|████▏     | 21/50 [1:54:00<3:04:53, 382.53s/it]"
     ]
    },
    {
     "name": "stdout",
     "output_type": "stream",
     "text": [
      "[I 2024-09-10 18:34:01,992] Trial 30 finished with value: -639821.9377088986 and parameters: {'n_estimators': 185, 'max_depth': 151.3994974356701, 'min_samples_split': 20, 'min_samples_leaf': 18}. Best is trial 29 with value: -639164.6487066433.\n"
     ]
    },
    {
     "name": "stderr",
     "output_type": "stream",
     "text": [
      "Best trial: 14. Best value: -635885:  44%|████▍     | 22/50 [1:57:50<2:37:11, 336.83s/it]"
     ]
    },
    {
     "name": "stdout",
     "output_type": "stream",
     "text": [
      "[I 2024-09-10 18:37:52,243] Trial 14 finished with value: -635884.554294245 and parameters: {'n_estimators': 658, 'max_depth': 10.172362664148286, 'min_samples_split': 11, 'min_samples_leaf': 15}. Best is trial 14 with value: -635884.554294245.\n"
     ]
    },
    {
     "name": "stderr",
     "output_type": "stream",
     "text": [
      "Best trial: 14. Best value: -635885:  46%|████▌     | 23/50 [2:00:09<2:04:54, 277.59s/it]"
     ]
    },
    {
     "name": "stdout",
     "output_type": "stream",
     "text": [
      "[I 2024-09-10 18:40:11,669] Trial 27 finished with value: -646372.1582830943 and parameters: {'n_estimators': 440, 'max_depth': 114.53462578106728, 'min_samples_split': 23, 'min_samples_leaf': 24}. Best is trial 14 with value: -635884.554294245.\n"
     ]
    },
    {
     "name": "stderr",
     "output_type": "stream",
     "text": [
      "Best trial: 14. Best value: -635885:  48%|████▊     | 24/50 [2:04:27<1:57:38, 271.50s/it]"
     ]
    },
    {
     "name": "stdout",
     "output_type": "stream",
     "text": [
      "[I 2024-09-10 18:44:28,961] Trial 31 finished with value: -641659.4881579713 and parameters: {'n_estimators': 218, 'max_depth': 8.683176881900755, 'min_samples_split': 21, 'min_samples_leaf': 19}. Best is trial 14 with value: -635884.554294245.\n"
     ]
    },
    {
     "name": "stderr",
     "output_type": "stream",
     "text": [
      "Best trial: 14. Best value: -635885:  50%|█████     | 25/50 [2:06:26<1:34:08, 225.95s/it]"
     ]
    },
    {
     "name": "stdout",
     "output_type": "stream",
     "text": [
      "[I 2024-09-10 18:46:28,651] Trial 33 finished with value: -641006.513027037 and parameters: {'n_estimators': 168, 'max_depth': 10.303264021175508, 'min_samples_split': 20, 'min_samples_leaf': 17}. Best is trial 14 with value: -635884.554294245.\n"
     ]
    },
    {
     "name": "stderr",
     "output_type": "stream",
     "text": [
      "Best trial: 14. Best value: -635885:  52%|█████▏    | 26/50 [2:06:38<1:04:40, 161.68s/it]"
     ]
    },
    {
     "name": "stdout",
     "output_type": "stream",
     "text": [
      "[I 2024-09-10 18:46:40,382] Trial 34 finished with value: -639606.8528363483 and parameters: {'n_estimators': 168, 'max_depth': 142.2341217251647, 'min_samples_split': 20, 'min_samples_leaf': 16}. Best is trial 14 with value: -635884.554294245.\n"
     ]
    },
    {
     "name": "stderr",
     "output_type": "stream",
     "text": [
      "Best trial: 14. Best value: -635885:  54%|█████▍    | 27/50 [2:07:27<49:02, 127.95s/it]  "
     ]
    },
    {
     "name": "stdout",
     "output_type": "stream",
     "text": [
      "[I 2024-09-10 18:47:29,637] Trial 32 finished with value: -638825.8165115557 and parameters: {'n_estimators': 204, 'max_depth': 9.292235639005444, 'min_samples_split': 22, 'min_samples_leaf': 17}. Best is trial 14 with value: -635884.554294245.\n"
     ]
    },
    {
     "name": "stderr",
     "output_type": "stream",
     "text": [
      "Best trial: 35. Best value: -635638:  56%|█████▌    | 28/50 [2:13:59<1:15:54, 207.03s/it]"
     ]
    },
    {
     "name": "stdout",
     "output_type": "stream",
     "text": [
      "[I 2024-09-10 18:54:01,156] Trial 35 finished with value: -635637.6122569441 and parameters: {'n_estimators': 180, 'max_depth': 176.5730704622566, 'min_samples_split': 21, 'min_samples_leaf': 13}. Best is trial 35 with value: -635637.6122569441.\n"
     ]
    },
    {
     "name": "stderr",
     "output_type": "stream",
     "text": [
      "Best trial: 35. Best value: -635638:  58%|█████▊    | 29/50 [2:13:59<50:46, 145.05s/it]  "
     ]
    },
    {
     "name": "stdout",
     "output_type": "stream",
     "text": [
      "[I 2024-09-10 18:54:01,607] Trial 11 finished with value: -642224.2464727936 and parameters: {'n_estimators': 899, 'max_depth': 52.21180690654726, 'min_samples_split': 3, 'min_samples_leaf': 22}. Best is trial 35 with value: -635637.6122569441.\n"
     ]
    },
    {
     "name": "stderr",
     "output_type": "stream",
     "text": [
      "Best trial: 35. Best value: -635638:  60%|██████    | 30/50 [2:21:54<1:21:20, 244.01s/it]"
     ]
    },
    {
     "name": "stdout",
     "output_type": "stream",
     "text": [
      "[I 2024-09-10 19:01:56,528] Trial 37 finished with value: -638771.9225026829 and parameters: {'n_estimators': 132, 'max_depth': 100.37783924721688, 'min_samples_split': 22, 'min_samples_leaf': 14}. Best is trial 35 with value: -635637.6122569441.\n"
     ]
    },
    {
     "name": "stderr",
     "output_type": "stream",
     "text": [
      "Best trial: 26. Best value: -632193:  62%|██████▏   | 31/50 [2:22:10<55:36, 175.63s/it]  "
     ]
    },
    {
     "name": "stdout",
     "output_type": "stream",
     "text": [
      "[I 2024-09-10 19:02:12,588] Trial 26 finished with value: -632193.2329361499 and parameters: {'n_estimators': 433, 'max_depth': 177.8732488081262, 'min_samples_split': 23, 'min_samples_leaf': 12}. Best is trial 26 with value: -632193.2329361499.\n"
     ]
    },
    {
     "name": "stderr",
     "output_type": "stream",
     "text": [
      "Best trial: 26. Best value: -632193:  64%|██████▍   | 32/50 [2:23:21<43:12, 144.04s/it]"
     ]
    },
    {
     "name": "stdout",
     "output_type": "stream",
     "text": [
      "[I 2024-09-10 19:03:22,928] Trial 38 finished with value: -639092.9368460752 and parameters: {'n_estimators': 129, 'max_depth': 13.80165990690205, 'min_samples_split': 21, 'min_samples_leaf': 15}. Best is trial 26 with value: -632193.2329361499.\n"
     ]
    },
    {
     "name": "stderr",
     "output_type": "stream",
     "text": [
      "Best trial: 26. Best value: -632193:  66%|██████▌   | 33/50 [2:25:38<40:15, 142.06s/it]"
     ]
    },
    {
     "name": "stdout",
     "output_type": "stream",
     "text": [
      "[I 2024-09-10 19:05:40,379] Trial 36 finished with value: -637566.9285312261 and parameters: {'n_estimators': 174, 'max_depth': 186.69540564269414, 'min_samples_split': 20, 'min_samples_leaf': 14}. Best is trial 26 with value: -632193.2329361499.\n"
     ]
    },
    {
     "name": "stderr",
     "output_type": "stream",
     "text": [
      "Best trial: 26. Best value: -632193:  68%|██████▊   | 34/50 [2:27:16<34:22, 128.89s/it]"
     ]
    },
    {
     "name": "stdout",
     "output_type": "stream",
     "text": [
      "[I 2024-09-10 19:07:18,526] Trial 24 finished with value: -637886.7268753508 and parameters: {'n_estimators': 581, 'max_depth': 18.30110020995584, 'min_samples_split': 4, 'min_samples_leaf': 17}. Best is trial 26 with value: -632193.2329361499.\n"
     ]
    },
    {
     "name": "stderr",
     "output_type": "stream",
     "text": [
      "Best trial: 26. Best value: -632193:  70%|███████   | 35/50 [2:31:11<40:08, 160.56s/it]"
     ]
    },
    {
     "name": "stdout",
     "output_type": "stream",
     "text": [
      "[I 2024-09-10 19:11:12,972] Trial 39 finished with value: -636241.900161963 and parameters: {'n_estimators': 139, 'max_depth': 15.377529610691662, 'min_samples_split': 16, 'min_samples_leaf': 13}. Best is trial 26 with value: -632193.2329361499.\n"
     ]
    },
    {
     "name": "stderr",
     "output_type": "stream",
     "text": [
      "Best trial: 26. Best value: -632193:  72%|███████▏  | 36/50 [2:33:59<37:59, 162.81s/it]"
     ]
    },
    {
     "name": "stdout",
     "output_type": "stream",
     "text": [
      "[I 2024-09-10 19:14:01,049] Trial 47 finished with value: -636460.9572960509 and parameters: {'n_estimators': 54, 'max_depth': 99.16394292593506, 'min_samples_split': 24, 'min_samples_leaf': 12}. Best is trial 26 with value: -632193.2329361499.\n"
     ]
    },
    {
     "name": "stderr",
     "output_type": "stream",
     "text": [
      "Best trial: 26. Best value: -632193:  74%|███████▍  | 37/50 [2:34:45<27:42, 127.92s/it]"
     ]
    },
    {
     "name": "stdout",
     "output_type": "stream",
     "text": [
      "[I 2024-09-10 19:14:47,550] Trial 45 finished with value: -638227.92389883 and parameters: {'n_estimators': 67, 'max_depth': 80.11946674808553, 'min_samples_split': 17, 'min_samples_leaf': 13}. Best is trial 26 with value: -632193.2329361499.\n"
     ]
    },
    {
     "name": "stderr",
     "output_type": "stream",
     "text": [
      "Best trial: 26. Best value: -632193:  76%|███████▌  | 38/50 [2:35:19<19:54, 99.58s/it] "
     ]
    },
    {
     "name": "stdout",
     "output_type": "stream",
     "text": [
      "[I 2024-09-10 19:15:21,009] Trial 46 finished with value: -637037.4764022615 and parameters: {'n_estimators': 63, 'max_depth': 102.45789627165489, 'min_samples_split': 24, 'min_samples_leaf': 12}. Best is trial 26 with value: -632193.2329361499.\n"
     ]
    },
    {
     "name": "stderr",
     "output_type": "stream",
     "text": [
      "Best trial: 2. Best value: -621738:  78%|███████▊  | 39/50 [2:40:05<28:31, 155.59s/it]"
     ]
    },
    {
     "name": "stdout",
     "output_type": "stream",
     "text": [
      "[I 2024-09-10 19:20:07,293] Trial 2 finished with value: -621737.6270543739 and parameters: {'n_estimators': 415, 'max_depth': 75.02928217320229, 'min_samples_split': 5, 'min_samples_leaf': 3}. Best is trial 2 with value: -621737.6270543739.\n"
     ]
    },
    {
     "name": "stderr",
     "output_type": "stream",
     "text": [
      "Best trial: 2. Best value: -621738:  80%|████████  | 40/50 [2:57:16<1:09:42, 418.29s/it]"
     ]
    },
    {
     "name": "stdout",
     "output_type": "stream",
     "text": [
      "[I 2024-09-10 19:37:18,538] Trial 19 finished with value: -634200.6272307443 and parameters: {'n_estimators': 907, 'max_depth': 19.446804980093233, 'min_samples_split': 14, 'min_samples_leaf': 15}. Best is trial 2 with value: -621737.6270543739.\n"
     ]
    },
    {
     "name": "stderr",
     "output_type": "stream",
     "text": [
      "Best trial: 2. Best value: -621738:  82%|████████▏ | 41/50 [3:06:13<1:08:04, 453.80s/it]"
     ]
    },
    {
     "name": "stdout",
     "output_type": "stream",
     "text": [
      "[I 2024-09-10 19:46:15,192] Trial 25 finished with value: -632892.8614144368 and parameters: {'n_estimators': 613, 'max_depth': 198.73544078573858, 'min_samples_split': 32, 'min_samples_leaf': 3}. Best is trial 2 with value: -621737.6270543739.\n"
     ]
    },
    {
     "name": "stderr",
     "output_type": "stream",
     "text": [
      "Best trial: 2. Best value: -621738:  84%|████████▍ | 42/50 [3:20:25<1:16:25, 573.20s/it]"
     ]
    },
    {
     "name": "stdout",
     "output_type": "stream",
     "text": [
      "[I 2024-09-10 20:00:27,000] Trial 20 finished with value: -628819.0995991416 and parameters: {'n_estimators': 842, 'max_depth': 120.44514207468254, 'min_samples_split': 9, 'min_samples_leaf': 10}. Best is trial 2 with value: -621737.6270543739.\n"
     ]
    },
    {
     "name": "stderr",
     "output_type": "stream",
     "text": [
      "Best trial: 2. Best value: -621738:  86%|████████▌ | 43/50 [3:58:30<2:06:47, 1086.84s/it]"
     ]
    },
    {
     "name": "stdout",
     "output_type": "stream",
     "text": [
      "[I 2024-09-10 20:38:32,350] Trial 44 finished with value: -634407.1369161269 and parameters: {'n_estimators': 560, 'max_depth': 16.709077710804788, 'min_samples_split': 16, 'min_samples_leaf': 13}. Best is trial 2 with value: -621737.6270543739.\n"
     ]
    },
    {
     "name": "stderr",
     "output_type": "stream",
     "text": [
      "Best trial: 2. Best value: -621738:  88%|████████▊ | 44/50 [4:04:53<1:27:33, 875.56s/it] "
     ]
    },
    {
     "name": "stdout",
     "output_type": "stream",
     "text": [
      "[I 2024-09-10 20:44:54,917] Trial 22 finished with value: -624089.7904778079 and parameters: {'n_estimators': 723, 'max_depth': 70.98861121054671, 'min_samples_split': 12, 'min_samples_leaf': 5}. Best is trial 2 with value: -621737.6270543739.\n"
     ]
    },
    {
     "name": "stderr",
     "output_type": "stream",
     "text": [
      "Best trial: 2. Best value: -621738:  90%|█████████ | 45/50 [4:26:28<1:23:28, 1001.62s/it]"
     ]
    },
    {
     "name": "stdout",
     "output_type": "stream",
     "text": [
      "[I 2024-09-10 21:06:30,662] Trial 48 finished with value: -630510.8194815307 and parameters: {'n_estimators': 572, 'max_depth': 97.23209729730478, 'min_samples_split': 16, 'min_samples_leaf': 11}. Best is trial 2 with value: -621737.6270543739.\n"
     ]
    },
    {
     "name": "stderr",
     "output_type": "stream",
     "text": [
      "Best trial: 2. Best value: -621738:  92%|█████████▏| 46/50 [4:50:58<1:16:08, 1142.06s/it]"
     ]
    },
    {
     "name": "stdout",
     "output_type": "stream",
     "text": [
      "[I 2024-09-10 21:31:00,414] Trial 49 finished with value: -633558.4896919989 and parameters: {'n_estimators': 740, 'max_depth': 85.20135762258488, 'min_samples_split': 16, 'min_samples_leaf': 13}. Best is trial 2 with value: -621737.6270543739.\n"
     ]
    },
    {
     "name": "stderr",
     "output_type": "stream",
     "text": [
      "Best trial: 2. Best value: -621738:  94%|█████████▍| 47/50 [4:53:31<42:15, 845.23s/it]   "
     ]
    },
    {
     "name": "stdout",
     "output_type": "stream",
     "text": [
      "[I 2024-09-10 21:33:33,063] Trial 41 finished with value: -633330.0713891827 and parameters: {'n_estimators': 915, 'max_depth': 103.7699988927049, 'min_samples_split': 17, 'min_samples_leaf': 14}. Best is trial 2 with value: -621737.6270543739.\n"
     ]
    },
    {
     "name": "stderr",
     "output_type": "stream",
     "text": [
      "Best trial: 2. Best value: -621738:  96%|█████████▌| 48/50 [4:57:40<22:13, 666.57s/it]"
     ]
    },
    {
     "name": "stdout",
     "output_type": "stream",
     "text": [
      "[I 2024-09-10 21:37:42,749] Trial 42 finished with value: -632660.9526063545 and parameters: {'n_estimators': 895, 'max_depth': 14.85479363624816, 'min_samples_split': 24, 'min_samples_leaf': 13}. Best is trial 2 with value: -621737.6270543739.\n"
     ]
    },
    {
     "name": "stderr",
     "output_type": "stream",
     "text": [
      "Best trial: 2. Best value: -621738:  98%|█████████▊| 49/50 [5:09:24<11:17, 677.76s/it]"
     ]
    },
    {
     "name": "stdout",
     "output_type": "stream",
     "text": [
      "[I 2024-09-10 21:49:26,607] Trial 40 finished with value: -633248.1468224624 and parameters: {'n_estimators': 992, 'max_depth': 87.7303051729242, 'min_samples_split': 17, 'min_samples_leaf': 14}. Best is trial 2 with value: -621737.6270543739.\n"
     ]
    },
    {
     "name": "stderr",
     "output_type": "stream",
     "text": [
      "Best trial: 2. Best value: -621738: 100%|██████████| 50/50 [5:24:48<00:00, 389.77s/it]"
     ]
    },
    {
     "name": "stdout",
     "output_type": "stream",
     "text": [
      "[I 2024-09-10 22:04:50,235] Trial 43 finished with value: -632287.9789475468 and parameters: {'n_estimators': 988, 'max_depth': 15.244045129492058, 'min_samples_split': 16, 'min_samples_leaf': 13}. Best is trial 2 with value: -621737.6270543739.\n",
      "MSE: -621737.6270543739\n",
      "Best hyperparameters: {'n_estimators': 415, 'max_depth': 75.02928217320229, 'min_samples_split': 5, 'min_samples_leaf': 3}\n"
     ]
    },
    {
     "name": "stderr",
     "output_type": "stream",
     "text": [
      "\n"
     ]
    }
   ],
   "source": [
    "# import optuna\n",
    "# from sklearn.model_selection import cross_val_score\n",
    "# from sklearn.ensemble import RandomForestRegressor\n",
    "\n",
    "# def objective(trial):\n",
    "#     n_estimators = trial.suggest_int('n_estimators', 50, 1000)\n",
    "#     max_depth = int(trial.suggest_float('max_depth', 1, 200, log=True))\n",
    "#     min_samples_split = trial.suggest_int('min_samples_split', 2, 32)\n",
    "#     min_samples_leaf = trial.suggest_int('min_samples_leaf', 1, 32)\n",
    "    \n",
    "#     rf = RandomForestRegressor(n_estimators=n_estimators, max_depth=max_depth, \n",
    "#                                min_samples_split=min_samples_split, min_samples_leaf=min_samples_leaf, random_state=42)\n",
    "    \n",
    "#     return np.mean(cross_val_score(rf, X, y, cv=3, scoring='neg_mean_squared_error'))\n",
    "\n",
    "# study = optuna.create_study(direction='maximize')\n",
    "# study.optimize(objective, n_trials=50, n_jobs=-1, show_progress_bar=True)\n",
    "\n",
    "# trial = study.best_trial\n",
    "# print('MSE: {}'.format(trial.value))\n",
    "# print(\"Best hyperparameters: {}\".format(trial.params))"
   ]
  },
  {
   "cell_type": "code",
   "execution_count": 23,
   "id": "e3254f6f",
   "metadata": {},
   "outputs": [
    {
     "data": {
      "text/html": [
       "<style>#sk-container-id-1 {\n",
       "  /* Definition of color scheme common for light and dark mode */\n",
       "  --sklearn-color-text: black;\n",
       "  --sklearn-color-line: gray;\n",
       "  /* Definition of color scheme for unfitted estimators */\n",
       "  --sklearn-color-unfitted-level-0: #fff5e6;\n",
       "  --sklearn-color-unfitted-level-1: #f6e4d2;\n",
       "  --sklearn-color-unfitted-level-2: #ffe0b3;\n",
       "  --sklearn-color-unfitted-level-3: chocolate;\n",
       "  /* Definition of color scheme for fitted estimators */\n",
       "  --sklearn-color-fitted-level-0: #f0f8ff;\n",
       "  --sklearn-color-fitted-level-1: #d4ebff;\n",
       "  --sklearn-color-fitted-level-2: #b3dbfd;\n",
       "  --sklearn-color-fitted-level-3: cornflowerblue;\n",
       "\n",
       "  /* Specific color for light theme */\n",
       "  --sklearn-color-text-on-default-background: var(--sg-text-color, var(--theme-code-foreground, var(--jp-content-font-color1, black)));\n",
       "  --sklearn-color-background: var(--sg-background-color, var(--theme-background, var(--jp-layout-color0, white)));\n",
       "  --sklearn-color-border-box: var(--sg-text-color, var(--theme-code-foreground, var(--jp-content-font-color1, black)));\n",
       "  --sklearn-color-icon: #696969;\n",
       "\n",
       "  @media (prefers-color-scheme: dark) {\n",
       "    /* Redefinition of color scheme for dark theme */\n",
       "    --sklearn-color-text-on-default-background: var(--sg-text-color, var(--theme-code-foreground, var(--jp-content-font-color1, white)));\n",
       "    --sklearn-color-background: var(--sg-background-color, var(--theme-background, var(--jp-layout-color0, #111)));\n",
       "    --sklearn-color-border-box: var(--sg-text-color, var(--theme-code-foreground, var(--jp-content-font-color1, white)));\n",
       "    --sklearn-color-icon: #878787;\n",
       "  }\n",
       "}\n",
       "\n",
       "#sk-container-id-1 {\n",
       "  color: var(--sklearn-color-text);\n",
       "}\n",
       "\n",
       "#sk-container-id-1 pre {\n",
       "  padding: 0;\n",
       "}\n",
       "\n",
       "#sk-container-id-1 input.sk-hidden--visually {\n",
       "  border: 0;\n",
       "  clip: rect(1px 1px 1px 1px);\n",
       "  clip: rect(1px, 1px, 1px, 1px);\n",
       "  height: 1px;\n",
       "  margin: -1px;\n",
       "  overflow: hidden;\n",
       "  padding: 0;\n",
       "  position: absolute;\n",
       "  width: 1px;\n",
       "}\n",
       "\n",
       "#sk-container-id-1 div.sk-dashed-wrapped {\n",
       "  border: 1px dashed var(--sklearn-color-line);\n",
       "  margin: 0 0.4em 0.5em 0.4em;\n",
       "  box-sizing: border-box;\n",
       "  padding-bottom: 0.4em;\n",
       "  background-color: var(--sklearn-color-background);\n",
       "}\n",
       "\n",
       "#sk-container-id-1 div.sk-container {\n",
       "  /* jupyter's `normalize.less` sets `[hidden] { display: none; }`\n",
       "     but bootstrap.min.css set `[hidden] { display: none !important; }`\n",
       "     so we also need the `!important` here to be able to override the\n",
       "     default hidden behavior on the sphinx rendered scikit-learn.org.\n",
       "     See: https://github.com/scikit-learn/scikit-learn/issues/21755 */\n",
       "  display: inline-block !important;\n",
       "  position: relative;\n",
       "}\n",
       "\n",
       "#sk-container-id-1 div.sk-text-repr-fallback {\n",
       "  display: none;\n",
       "}\n",
       "\n",
       "div.sk-parallel-item,\n",
       "div.sk-serial,\n",
       "div.sk-item {\n",
       "  /* draw centered vertical line to link estimators */\n",
       "  background-image: linear-gradient(var(--sklearn-color-text-on-default-background), var(--sklearn-color-text-on-default-background));\n",
       "  background-size: 2px 100%;\n",
       "  background-repeat: no-repeat;\n",
       "  background-position: center center;\n",
       "}\n",
       "\n",
       "/* Parallel-specific style estimator block */\n",
       "\n",
       "#sk-container-id-1 div.sk-parallel-item::after {\n",
       "  content: \"\";\n",
       "  width: 100%;\n",
       "  border-bottom: 2px solid var(--sklearn-color-text-on-default-background);\n",
       "  flex-grow: 1;\n",
       "}\n",
       "\n",
       "#sk-container-id-1 div.sk-parallel {\n",
       "  display: flex;\n",
       "  align-items: stretch;\n",
       "  justify-content: center;\n",
       "  background-color: var(--sklearn-color-background);\n",
       "  position: relative;\n",
       "}\n",
       "\n",
       "#sk-container-id-1 div.sk-parallel-item {\n",
       "  display: flex;\n",
       "  flex-direction: column;\n",
       "}\n",
       "\n",
       "#sk-container-id-1 div.sk-parallel-item:first-child::after {\n",
       "  align-self: flex-end;\n",
       "  width: 50%;\n",
       "}\n",
       "\n",
       "#sk-container-id-1 div.sk-parallel-item:last-child::after {\n",
       "  align-self: flex-start;\n",
       "  width: 50%;\n",
       "}\n",
       "\n",
       "#sk-container-id-1 div.sk-parallel-item:only-child::after {\n",
       "  width: 0;\n",
       "}\n",
       "\n",
       "/* Serial-specific style estimator block */\n",
       "\n",
       "#sk-container-id-1 div.sk-serial {\n",
       "  display: flex;\n",
       "  flex-direction: column;\n",
       "  align-items: center;\n",
       "  background-color: var(--sklearn-color-background);\n",
       "  padding-right: 1em;\n",
       "  padding-left: 1em;\n",
       "}\n",
       "\n",
       "\n",
       "/* Toggleable style: style used for estimator/Pipeline/ColumnTransformer box that is\n",
       "clickable and can be expanded/collapsed.\n",
       "- Pipeline and ColumnTransformer use this feature and define the default style\n",
       "- Estimators will overwrite some part of the style using the `sk-estimator` class\n",
       "*/\n",
       "\n",
       "/* Pipeline and ColumnTransformer style (default) */\n",
       "\n",
       "#sk-container-id-1 div.sk-toggleable {\n",
       "  /* Default theme specific background. It is overwritten whether we have a\n",
       "  specific estimator or a Pipeline/ColumnTransformer */\n",
       "  background-color: var(--sklearn-color-background);\n",
       "}\n",
       "\n",
       "/* Toggleable label */\n",
       "#sk-container-id-1 label.sk-toggleable__label {\n",
       "  cursor: pointer;\n",
       "  display: block;\n",
       "  width: 100%;\n",
       "  margin-bottom: 0;\n",
       "  padding: 0.5em;\n",
       "  box-sizing: border-box;\n",
       "  text-align: center;\n",
       "}\n",
       "\n",
       "#sk-container-id-1 label.sk-toggleable__label-arrow:before {\n",
       "  /* Arrow on the left of the label */\n",
       "  content: \"▸\";\n",
       "  float: left;\n",
       "  margin-right: 0.25em;\n",
       "  color: var(--sklearn-color-icon);\n",
       "}\n",
       "\n",
       "#sk-container-id-1 label.sk-toggleable__label-arrow:hover:before {\n",
       "  color: var(--sklearn-color-text);\n",
       "}\n",
       "\n",
       "/* Toggleable content - dropdown */\n",
       "\n",
       "#sk-container-id-1 div.sk-toggleable__content {\n",
       "  max-height: 0;\n",
       "  max-width: 0;\n",
       "  overflow: hidden;\n",
       "  text-align: left;\n",
       "  /* unfitted */\n",
       "  background-color: var(--sklearn-color-unfitted-level-0);\n",
       "}\n",
       "\n",
       "#sk-container-id-1 div.sk-toggleable__content.fitted {\n",
       "  /* fitted */\n",
       "  background-color: var(--sklearn-color-fitted-level-0);\n",
       "}\n",
       "\n",
       "#sk-container-id-1 div.sk-toggleable__content pre {\n",
       "  margin: 0.2em;\n",
       "  border-radius: 0.25em;\n",
       "  color: var(--sklearn-color-text);\n",
       "  /* unfitted */\n",
       "  background-color: var(--sklearn-color-unfitted-level-0);\n",
       "}\n",
       "\n",
       "#sk-container-id-1 div.sk-toggleable__content.fitted pre {\n",
       "  /* unfitted */\n",
       "  background-color: var(--sklearn-color-fitted-level-0);\n",
       "}\n",
       "\n",
       "#sk-container-id-1 input.sk-toggleable__control:checked~div.sk-toggleable__content {\n",
       "  /* Expand drop-down */\n",
       "  max-height: 200px;\n",
       "  max-width: 100%;\n",
       "  overflow: auto;\n",
       "}\n",
       "\n",
       "#sk-container-id-1 input.sk-toggleable__control:checked~label.sk-toggleable__label-arrow:before {\n",
       "  content: \"▾\";\n",
       "}\n",
       "\n",
       "/* Pipeline/ColumnTransformer-specific style */\n",
       "\n",
       "#sk-container-id-1 div.sk-label input.sk-toggleable__control:checked~label.sk-toggleable__label {\n",
       "  color: var(--sklearn-color-text);\n",
       "  background-color: var(--sklearn-color-unfitted-level-2);\n",
       "}\n",
       "\n",
       "#sk-container-id-1 div.sk-label.fitted input.sk-toggleable__control:checked~label.sk-toggleable__label {\n",
       "  background-color: var(--sklearn-color-fitted-level-2);\n",
       "}\n",
       "\n",
       "/* Estimator-specific style */\n",
       "\n",
       "/* Colorize estimator box */\n",
       "#sk-container-id-1 div.sk-estimator input.sk-toggleable__control:checked~label.sk-toggleable__label {\n",
       "  /* unfitted */\n",
       "  background-color: var(--sklearn-color-unfitted-level-2);\n",
       "}\n",
       "\n",
       "#sk-container-id-1 div.sk-estimator.fitted input.sk-toggleable__control:checked~label.sk-toggleable__label {\n",
       "  /* fitted */\n",
       "  background-color: var(--sklearn-color-fitted-level-2);\n",
       "}\n",
       "\n",
       "#sk-container-id-1 div.sk-label label.sk-toggleable__label,\n",
       "#sk-container-id-1 div.sk-label label {\n",
       "  /* The background is the default theme color */\n",
       "  color: var(--sklearn-color-text-on-default-background);\n",
       "}\n",
       "\n",
       "/* On hover, darken the color of the background */\n",
       "#sk-container-id-1 div.sk-label:hover label.sk-toggleable__label {\n",
       "  color: var(--sklearn-color-text);\n",
       "  background-color: var(--sklearn-color-unfitted-level-2);\n",
       "}\n",
       "\n",
       "/* Label box, darken color on hover, fitted */\n",
       "#sk-container-id-1 div.sk-label.fitted:hover label.sk-toggleable__label.fitted {\n",
       "  color: var(--sklearn-color-text);\n",
       "  background-color: var(--sklearn-color-fitted-level-2);\n",
       "}\n",
       "\n",
       "/* Estimator label */\n",
       "\n",
       "#sk-container-id-1 div.sk-label label {\n",
       "  font-family: monospace;\n",
       "  font-weight: bold;\n",
       "  display: inline-block;\n",
       "  line-height: 1.2em;\n",
       "}\n",
       "\n",
       "#sk-container-id-1 div.sk-label-container {\n",
       "  text-align: center;\n",
       "}\n",
       "\n",
       "/* Estimator-specific */\n",
       "#sk-container-id-1 div.sk-estimator {\n",
       "  font-family: monospace;\n",
       "  border: 1px dotted var(--sklearn-color-border-box);\n",
       "  border-radius: 0.25em;\n",
       "  box-sizing: border-box;\n",
       "  margin-bottom: 0.5em;\n",
       "  /* unfitted */\n",
       "  background-color: var(--sklearn-color-unfitted-level-0);\n",
       "}\n",
       "\n",
       "#sk-container-id-1 div.sk-estimator.fitted {\n",
       "  /* fitted */\n",
       "  background-color: var(--sklearn-color-fitted-level-0);\n",
       "}\n",
       "\n",
       "/* on hover */\n",
       "#sk-container-id-1 div.sk-estimator:hover {\n",
       "  /* unfitted */\n",
       "  background-color: var(--sklearn-color-unfitted-level-2);\n",
       "}\n",
       "\n",
       "#sk-container-id-1 div.sk-estimator.fitted:hover {\n",
       "  /* fitted */\n",
       "  background-color: var(--sklearn-color-fitted-level-2);\n",
       "}\n",
       "\n",
       "/* Specification for estimator info (e.g. \"i\" and \"?\") */\n",
       "\n",
       "/* Common style for \"i\" and \"?\" */\n",
       "\n",
       ".sk-estimator-doc-link,\n",
       "a:link.sk-estimator-doc-link,\n",
       "a:visited.sk-estimator-doc-link {\n",
       "  float: right;\n",
       "  font-size: smaller;\n",
       "  line-height: 1em;\n",
       "  font-family: monospace;\n",
       "  background-color: var(--sklearn-color-background);\n",
       "  border-radius: 1em;\n",
       "  height: 1em;\n",
       "  width: 1em;\n",
       "  text-decoration: none !important;\n",
       "  margin-left: 1ex;\n",
       "  /* unfitted */\n",
       "  border: var(--sklearn-color-unfitted-level-1) 1pt solid;\n",
       "  color: var(--sklearn-color-unfitted-level-1);\n",
       "}\n",
       "\n",
       ".sk-estimator-doc-link.fitted,\n",
       "a:link.sk-estimator-doc-link.fitted,\n",
       "a:visited.sk-estimator-doc-link.fitted {\n",
       "  /* fitted */\n",
       "  border: var(--sklearn-color-fitted-level-1) 1pt solid;\n",
       "  color: var(--sklearn-color-fitted-level-1);\n",
       "}\n",
       "\n",
       "/* On hover */\n",
       "div.sk-estimator:hover .sk-estimator-doc-link:hover,\n",
       ".sk-estimator-doc-link:hover,\n",
       "div.sk-label-container:hover .sk-estimator-doc-link:hover,\n",
       ".sk-estimator-doc-link:hover {\n",
       "  /* unfitted */\n",
       "  background-color: var(--sklearn-color-unfitted-level-3);\n",
       "  color: var(--sklearn-color-background);\n",
       "  text-decoration: none;\n",
       "}\n",
       "\n",
       "div.sk-estimator.fitted:hover .sk-estimator-doc-link.fitted:hover,\n",
       ".sk-estimator-doc-link.fitted:hover,\n",
       "div.sk-label-container:hover .sk-estimator-doc-link.fitted:hover,\n",
       ".sk-estimator-doc-link.fitted:hover {\n",
       "  /* fitted */\n",
       "  background-color: var(--sklearn-color-fitted-level-3);\n",
       "  color: var(--sklearn-color-background);\n",
       "  text-decoration: none;\n",
       "}\n",
       "\n",
       "/* Span, style for the box shown on hovering the info icon */\n",
       ".sk-estimator-doc-link span {\n",
       "  display: none;\n",
       "  z-index: 9999;\n",
       "  position: relative;\n",
       "  font-weight: normal;\n",
       "  right: .2ex;\n",
       "  padding: .5ex;\n",
       "  margin: .5ex;\n",
       "  width: min-content;\n",
       "  min-width: 20ex;\n",
       "  max-width: 50ex;\n",
       "  color: var(--sklearn-color-text);\n",
       "  box-shadow: 2pt 2pt 4pt #999;\n",
       "  /* unfitted */\n",
       "  background: var(--sklearn-color-unfitted-level-0);\n",
       "  border: .5pt solid var(--sklearn-color-unfitted-level-3);\n",
       "}\n",
       "\n",
       ".sk-estimator-doc-link.fitted span {\n",
       "  /* fitted */\n",
       "  background: var(--sklearn-color-fitted-level-0);\n",
       "  border: var(--sklearn-color-fitted-level-3);\n",
       "}\n",
       "\n",
       ".sk-estimator-doc-link:hover span {\n",
       "  display: block;\n",
       "}\n",
       "\n",
       "/* \"?\"-specific style due to the `<a>` HTML tag */\n",
       "\n",
       "#sk-container-id-1 a.estimator_doc_link {\n",
       "  float: right;\n",
       "  font-size: 1rem;\n",
       "  line-height: 1em;\n",
       "  font-family: monospace;\n",
       "  background-color: var(--sklearn-color-background);\n",
       "  border-radius: 1rem;\n",
       "  height: 1rem;\n",
       "  width: 1rem;\n",
       "  text-decoration: none;\n",
       "  /* unfitted */\n",
       "  color: var(--sklearn-color-unfitted-level-1);\n",
       "  border: var(--sklearn-color-unfitted-level-1) 1pt solid;\n",
       "}\n",
       "\n",
       "#sk-container-id-1 a.estimator_doc_link.fitted {\n",
       "  /* fitted */\n",
       "  border: var(--sklearn-color-fitted-level-1) 1pt solid;\n",
       "  color: var(--sklearn-color-fitted-level-1);\n",
       "}\n",
       "\n",
       "/* On hover */\n",
       "#sk-container-id-1 a.estimator_doc_link:hover {\n",
       "  /* unfitted */\n",
       "  background-color: var(--sklearn-color-unfitted-level-3);\n",
       "  color: var(--sklearn-color-background);\n",
       "  text-decoration: none;\n",
       "}\n",
       "\n",
       "#sk-container-id-1 a.estimator_doc_link.fitted:hover {\n",
       "  /* fitted */\n",
       "  background-color: var(--sklearn-color-fitted-level-3);\n",
       "}\n",
       "</style><div id=\"sk-container-id-1\" class=\"sk-top-container\"><div class=\"sk-text-repr-fallback\"><pre>RandomForestRegressor(max_depth=75, min_samples_leaf=3, min_samples_split=5,\n",
       "                      n_estimators=415)</pre><b>In a Jupyter environment, please rerun this cell to show the HTML representation or trust the notebook. <br />On GitHub, the HTML representation is unable to render, please try loading this page with nbviewer.org.</b></div><div class=\"sk-container\" hidden><div class=\"sk-item\"><div class=\"sk-estimator fitted sk-toggleable\"><input class=\"sk-toggleable__control sk-hidden--visually\" id=\"sk-estimator-id-1\" type=\"checkbox\" checked><label for=\"sk-estimator-id-1\" class=\"sk-toggleable__label fitted sk-toggleable__label-arrow fitted\">&nbsp;&nbsp;RandomForestRegressor<a class=\"sk-estimator-doc-link fitted\" rel=\"noreferrer\" target=\"_blank\" href=\"https://scikit-learn.org/1.5/modules/generated/sklearn.ensemble.RandomForestRegressor.html\">?<span>Documentation for RandomForestRegressor</span></a><span class=\"sk-estimator-doc-link fitted\">i<span>Fitted</span></span></label><div class=\"sk-toggleable__content fitted\"><pre>RandomForestRegressor(max_depth=75, min_samples_leaf=3, min_samples_split=5,\n",
       "                      n_estimators=415)</pre></div> </div></div></div></div>"
      ],
      "text/plain": [
       "RandomForestRegressor(max_depth=75, min_samples_leaf=3, min_samples_split=5,\n",
       "                      n_estimators=415)"
      ]
     },
     "execution_count": 23,
     "metadata": {},
     "output_type": "execute_result"
    }
   ],
   "source": [
    "from sklearn.ensemble import RandomForestRegressor\n",
    "\n",
    "best_params = {\n",
    "    'n_estimators': 415,\n",
    "    'max_depth': int(75.02928217320229), \n",
    "    'min_samples_split': 5,\n",
    "    'min_samples_leaf': 3\n",
    "}\n",
    "\n",
    "model = RandomForestRegressor(\n",
    "    n_estimators=best_params['n_estimators'],\n",
    "    max_depth=best_params['max_depth'],\n",
    "    min_samples_split=best_params['min_samples_split'],\n",
    "    min_samples_leaf=best_params['min_samples_leaf']\n",
    ")\n",
    "\n",
    "# Fit the model to your data\n",
    "model.fit(X_train, y_train)"
   ]
  },
  {
   "cell_type": "code",
   "execution_count": 25,
   "id": "3e1a35ab",
   "metadata": {},
   "outputs": [
    {
     "name": "stdout",
     "output_type": "stream",
     "text": [
      "Mean Squared Error train: 150122.1611411656\n",
      "Mean Absolute Error train: 288.09786291089557\n",
      "RMSE 387.45601187898166\n",
      "R-squared train: 0.8797396612196907\n"
     ]
    }
   ],
   "source": [
    "import numpy as np\n",
    "from sklearn.metrics import mean_squared_error, r2_score, mean_absolute_error\n",
    "\n",
    "y_predict_train =model.predict(X_train)\n",
    "\n",
    "mse_train = mean_squared_error(y_train, y_predict_train)\n",
    "mae_train = mean_absolute_error(y_train, y_predict_train)\n",
    "r_squared_train = r2_score(y_train, y_predict_train)\n",
    "\n",
    "print(\"Mean Squared Error train:\", mse_train)\n",
    "print(\"Mean Absolute Error train:\", mae_train)\n",
    "print(\"RMSE\", np.sqrt(mse_train))\n",
    "print(\"R-squared train:\", r_squared_train)"
   ]
  },
  {
   "cell_type": "code",
   "execution_count": 26,
   "id": "b241ba04",
   "metadata": {},
   "outputs": [
    {
     "name": "stdout",
     "output_type": "stream",
     "text": [
      "Mean Squared Error test: 551408.6041565805\n",
      "Mean Absolute Error test: 571.235669241009\n",
      "RMSE 742.5689221591357\n",
      "R-squared test: 0.5391727940011477\n"
     ]
    }
   ],
   "source": [
    "y_predict_test = model.predict(X_test)\n",
    "\n",
    "mse_test = mean_squared_error(y_test, y_predict_test)\n",
    "mae_test = mean_absolute_error(y_test, y_predict_test)\n",
    "r_squared_test = r2_score(y_test, y_predict_test)\n",
    "\n",
    "print(\"Mean Squared Error test:\", mse_test)\n",
    "print(\"Mean Absolute Error test:\", mae_test)\n",
    "print(\"RMSE\", np.sqrt(mse_test))\n",
    "print(\"R-squared test:\", r_squared_test)"
   ]
  },
  {
   "cell_type": "code",
   "execution_count": null,
   "id": "18fad630",
   "metadata": {},
   "outputs": [],
   "source": [
    "!pip install optuna-dashboard"
   ]
  },
  {
   "cell_type": "code",
   "execution_count": null,
   "id": "f8635eed",
   "metadata": {},
   "outputs": [],
   "source": [
    "study = optuna.create_study(\n",
    "    storage=\"sqlite:///db.sqlite3\",  # Specify the storage URL here.\n",
    "    study_name=\"RF_Basemodel\"\n",
    ")\n"
   ]
  },
  {
   "cell_type": "code",
   "execution_count": 27,
   "id": "f318d48d",
   "metadata": {},
   "outputs": [],
   "source": [
    "feature_importances = model.feature_importances_\n",
    "feature_names = X_test.columns"
   ]
  },
  {
   "cell_type": "code",
   "execution_count": 28,
   "id": "994a0554",
   "metadata": {},
   "outputs": [
    {
     "name": "stdout",
     "output_type": "stream",
     "text": [
      "            Feature  Importance\n",
      "1              Year    0.262692\n",
      "3          Location    0.118631\n",
      "2             Study    0.023387\n",
      "11673  D3H634621522    0.017060\n",
      "5615   D2H172298452    0.015612\n",
      "11375  D3H623151050    0.014140\n",
      "9183   D3H027044369    0.007575\n",
      "29063  D7H619485083    0.007282\n",
      "9279   D3H042759815    0.007184\n",
      "2368   C1H359703846    0.005629\n",
      "9276   D3H042399910    0.002943\n",
      "9571   C3H117876749    0.002408\n",
      "2797   D1H461399709    0.001977\n",
      "19872  D5H629189593    0.001901\n",
      "10853  D3H584406056    0.001827\n"
     ]
    }
   ],
   "source": [
    "importance_df = pd.DataFrame({'Feature': feature_names, 'Importance': feature_importances})\n",
    "\n",
    "top_15_importance_df = importance_df.sort_values(by='Importance', ascending=False).head(15)\n",
    "\n",
    "print(top_15_importance_df)"
   ]
  },
  {
   "cell_type": "code",
   "execution_count": 29,
   "id": "ef5dc72b",
   "metadata": {},
   "outputs": [
    {
     "data": {
      "image/png": "[encoded data removed]",
      "text/plain": [
       "<Figure size 1000x600 with 1 Axes>"
      ]
     },
     "metadata": {},
     "output_type": "display_data"
    }
   ],
   "source": [
    "import matplotlib.pyplot as plt\n",
    "\n",
    "plt.figure(figsize=(10, 6))\n",
    "plt.barh(top_15_importance_df['Feature'], top_15_importance_df['Importance'])\n",
    "plt.xlabel('Importance')\n",
    "plt.ylabel('Feature')\n",
    "plt.title('Feature Importances in Random Forest')\n",
    "plt.gca().invert_yaxis()\n",
    "plt.show()"
   ]
  },
  {
   "cell_type": "code",
   "execution_count": null,
   "id": "47922337",
   "metadata": {},
   "outputs": [],
   "source": []
  }
 ],
 "metadata": {
  "kernelspec": {
   "display_name": "Python 3 (ipykernel)",
   "language": "python",
   "name": "python3"
  },
  "language_info": {
   "codemirror_mode": {
    "name": "ipython",
    "version": 3
   },
   "file_extension": ".py",
   "mimetype": "text/x-python",
   "name": "python",
   "nbconvert_exporter": "python",
   "pygments_lexer": "ipython3",
   "version": "3.10.11"
  }
 },
 "nbformat": 4,
 "nbformat_minor": 5
}
